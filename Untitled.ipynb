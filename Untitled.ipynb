{
 "cells": [
  {
   "cell_type": "code",
   "execution_count": 7,
   "id": "a232e290",
   "metadata": {},
   "outputs": [],
   "source": [
    "import pandas as pd\n",
    "import numpy as np\n",
    "import re\n",
    "import seaborn as sns\n",
    "import matplotlib.pyplot as plt\n",
    "import warnings\n",
    "warnings.simplefilter(\"ignore\")\n",
    "\n",
    "\n",
    "from sklearn.model_selection import train_test_split\n",
    "\n",
    " \n",
    "from sklearn.metrics import accuracy_score, confusion_matrix, classification_report\n",
    "from sklearn.linear_model import LogisticRegression\n",
    "from sklearn.svm import LinearSVC\n",
    "from sklearn.naive_bayes import BernoulliNB\n",
    "from sklearn.ensemble import GradientBoostingClassifier\n",
    "from sklearn.ensemble import RandomForestClassifier\n",
    "from sklearn.tree import DecisionTreeClassifier\n",
    "from sklearn.model_selection import train_test_split\n",
    "from sklearn.linear_model import *\n",
    "from sklearn.pipeline import make_pipeline\n",
    "from sklearn.preprocessing import RobustScaler\n",
    "from sklearn.metrics import * \n",
    "from sklearn.kernel_ridge import KernelRidge\n",
    "from sklearn.svm import SVR\n",
    "from sklearn import svm\n",
    "from sklearn.ensemble import RandomForestRegressor"
   ]
  },
  {
   "cell_type": "code",
   "execution_count": 10,
   "id": "7e6e5c33",
   "metadata": {},
   "outputs": [],
   "source": [
    "def read_file(path):\n",
    "    '''This function reads the csv file given and displays the first five rows'''\n",
    "    data = pd.read_csv(path)\n",
    "\n",
    "    return data"
   ]
  },
  {
   "cell_type": "code",
   "execution_count": 11,
   "id": "9d639922",
   "metadata": {},
   "outputs": [],
   "source": [
    "# Load train data\n",
    "train_df = pd.read_csv('train_set.csv')\n",
    "\n",
    "# Load test data\n",
    "test_df = pd.read_csv('test_set.csv')"
   ]
  },
  {
   "cell_type": "code",
   "execution_count": 12,
   "id": "4986b8c4",
   "metadata": {},
   "outputs": [
    {
     "data": {
      "text/html": [
       "<div>\n",
       "<style scoped>\n",
       "    .dataframe tbody tr th:only-of-type {\n",
       "        vertical-align: middle;\n",
       "    }\n",
       "\n",
       "    .dataframe tbody tr th {\n",
       "        vertical-align: top;\n",
       "    }\n",
       "\n",
       "    .dataframe thead th {\n",
       "        text-align: right;\n",
       "    }\n",
       "</style>\n",
       "<table border=\"1\" class=\"dataframe\">\n",
       "  <thead>\n",
       "    <tr style=\"text-align: right;\">\n",
       "      <th></th>\n",
       "      <th>lang_id</th>\n",
       "      <th>text</th>\n",
       "    </tr>\n",
       "  </thead>\n",
       "  <tbody>\n",
       "    <tr>\n",
       "      <th>0</th>\n",
       "      <td>xho</td>\n",
       "      <td>umgaqo-siseko wenza amalungiselelo kumaziko ax...</td>\n",
       "    </tr>\n",
       "    <tr>\n",
       "      <th>1</th>\n",
       "      <td>xho</td>\n",
       "      <td>i-dha iya kuba nobulumko bokubeka umsebenzi na...</td>\n",
       "    </tr>\n",
       "    <tr>\n",
       "      <th>2</th>\n",
       "      <td>eng</td>\n",
       "      <td>the province of kwazulu-natal department of tr...</td>\n",
       "    </tr>\n",
       "    <tr>\n",
       "      <th>3</th>\n",
       "      <td>nso</td>\n",
       "      <td>o netefatša gore o ba file dilo ka moka tše le...</td>\n",
       "    </tr>\n",
       "    <tr>\n",
       "      <th>4</th>\n",
       "      <td>ven</td>\n",
       "      <td>khomishini ya ndinganyiso ya mbeu yo ewa maana...</td>\n",
       "    </tr>\n",
       "  </tbody>\n",
       "</table>\n",
       "</div>"
      ],
      "text/plain": [
       "  lang_id                                               text\n",
       "0     xho  umgaqo-siseko wenza amalungiselelo kumaziko ax...\n",
       "1     xho  i-dha iya kuba nobulumko bokubeka umsebenzi na...\n",
       "2     eng  the province of kwazulu-natal department of tr...\n",
       "3     nso  o netefatša gore o ba file dilo ka moka tše le...\n",
       "4     ven  khomishini ya ndinganyiso ya mbeu yo ewa maana..."
      ]
     },
     "execution_count": 12,
     "metadata": {},
     "output_type": "execute_result"
    }
   ],
   "source": [
    "#displaying the first rows\n",
    "train_df.head()"
   ]
  },
  {
   "cell_type": "code",
   "execution_count": 13,
   "id": "634dab3c",
   "metadata": {},
   "outputs": [
    {
     "data": {
      "text/plain": [
       "1       1\n",
       "3818    1\n",
       "3794    1\n",
       "3793    1\n",
       "3792    1\n",
       "       ..\n",
       "1893    1\n",
       "1892    1\n",
       "1891    1\n",
       "1890    1\n",
       "5682    1\n",
       "Name: index, Length: 5682, dtype: int64"
      ]
     },
     "execution_count": 13,
     "metadata": {},
     "output_type": "execute_result"
    }
   ],
   "source": [
    "test_df[\"index\"].value_counts()"
   ]
  },
  {
   "cell_type": "code",
   "execution_count": 14,
   "id": "89f918c3",
   "metadata": {},
   "outputs": [
    {
     "data": {
      "text/html": [
       "<div>\n",
       "<style scoped>\n",
       "    .dataframe tbody tr th:only-of-type {\n",
       "        vertical-align: middle;\n",
       "    }\n",
       "\n",
       "    .dataframe tbody tr th {\n",
       "        vertical-align: top;\n",
       "    }\n",
       "\n",
       "    .dataframe thead th {\n",
       "        text-align: right;\n",
       "    }\n",
       "</style>\n",
       "<table border=\"1\" class=\"dataframe\">\n",
       "  <thead>\n",
       "    <tr style=\"text-align: right;\">\n",
       "      <th></th>\n",
       "      <th>index</th>\n",
       "      <th>text</th>\n",
       "    </tr>\n",
       "  </thead>\n",
       "  <tbody>\n",
       "    <tr>\n",
       "      <th>0</th>\n",
       "      <td>1</td>\n",
       "      <td>Mmasepala, fa maemo a a kgethegileng a letlele...</td>\n",
       "    </tr>\n",
       "    <tr>\n",
       "      <th>1</th>\n",
       "      <td>2</td>\n",
       "      <td>Uzakwaziswa ngokufaneleko nakungafuneka eminye...</td>\n",
       "    </tr>\n",
       "    <tr>\n",
       "      <th>2</th>\n",
       "      <td>3</td>\n",
       "      <td>Tshivhumbeo tshi fana na ngano dza vhathu.</td>\n",
       "    </tr>\n",
       "    <tr>\n",
       "      <th>3</th>\n",
       "      <td>4</td>\n",
       "      <td>Kube inja nelikati betingevakala kutsi titsini...</td>\n",
       "    </tr>\n",
       "    <tr>\n",
       "      <th>4</th>\n",
       "      <td>5</td>\n",
       "      <td>Winste op buitelandse valuta.</td>\n",
       "    </tr>\n",
       "  </tbody>\n",
       "</table>\n",
       "</div>"
      ],
      "text/plain": [
       "   index                                               text\n",
       "0      1  Mmasepala, fa maemo a a kgethegileng a letlele...\n",
       "1      2  Uzakwaziswa ngokufaneleko nakungafuneka eminye...\n",
       "2      3         Tshivhumbeo tshi fana na ngano dza vhathu.\n",
       "3      4  Kube inja nelikati betingevakala kutsi titsini...\n",
       "4      5                      Winste op buitelandse valuta."
      ]
     },
     "execution_count": 14,
     "metadata": {},
     "output_type": "execute_result"
    }
   ],
   "source": [
    "test_df.head()"
   ]
  },
  {
   "cell_type": "code",
   "execution_count": 15,
   "id": "af0b3644",
   "metadata": {},
   "outputs": [
    {
     "data": {
      "text/plain": [
       "xho    3000\n",
       "eng    3000\n",
       "nso    3000\n",
       "ven    3000\n",
       "tsn    3000\n",
       "nbl    3000\n",
       "zul    3000\n",
       "ssw    3000\n",
       "tso    3000\n",
       "sot    3000\n",
       "afr    3000\n",
       "Name: lang_id, dtype: int64"
      ]
     },
     "execution_count": 15,
     "metadata": {},
     "output_type": "execute_result"
    }
   ],
   "source": [
    "train_df[\"lang_id\"].value_counts() # There are 11 languages and 3000 sentenses in each category"
   ]
  },
  {
   "cell_type": "code",
   "execution_count": 16,
   "id": "7f5c2af4",
   "metadata": {},
   "outputs": [
    {
     "name": "stdout",
     "output_type": "stream",
     "text": [
      "<class 'pandas.core.frame.DataFrame'>\n",
      "RangeIndex: 33000 entries, 0 to 32999\n",
      "Data columns (total 2 columns):\n",
      " #   Column   Non-Null Count  Dtype \n",
      "---  ------   --------------  ----- \n",
      " 0   lang_id  33000 non-null  object\n",
      " 1   text     33000 non-null  object\n",
      "dtypes: object(2)\n",
      "memory usage: 515.8+ KB\n"
     ]
    }
   ],
   "source": [
    "# Verifying the data types and establishing if there are null values\n",
    "train_df.info()"
   ]
  },
  {
   "cell_type": "code",
   "execution_count": 17,
   "id": "e6323687",
   "metadata": {},
   "outputs": [
    {
     "data": {
      "text/plain": [
       "0    umgaqo-siseko wenza amalungiselelo kumaziko ax...\n",
       "1    i-dha iya kuba nobulumko bokubeka umsebenzi na...\n",
       "2    the province of kwazulu-natal department of tr...\n",
       "3    o netefatša gore o ba file dilo ka moka tše le...\n",
       "4    khomishini ya ndinganyiso ya mbeu yo ewa maana...\n",
       "Name: text, dtype: object"
      ]
     },
     "execution_count": 17,
     "metadata": {},
     "output_type": "execute_result"
    }
   ],
   "source": [
    "# Establishing if the semntenses have stop words\n",
    "train_df['text'][0:5]"
   ]
  },
  {
   "cell_type": "code",
   "execution_count": 18,
   "id": "e13ba9d7",
   "metadata": {},
   "outputs": [],
   "source": [
    "X = train_df['text']\n",
    "y = train_df['lang_id']"
   ]
  },
  {
   "cell_type": "code",
   "execution_count": 19,
   "id": "136cbb20",
   "metadata": {},
   "outputs": [],
   "source": [
    "Xhosa = train_df[y == \"xho\"]\n",
    "English = train_df[y == \"eng\"]\n",
    "Nso = train_df[y == \"nso\"]\n",
    "Venda = train_df[y == \"ven\"]\n",
    "Tswana = train_df[y == \"tsn\"]\n",
    "Ndebele = train_df[y == \"nbl\"]\n",
    "Zulu = train_df[y == \"zul\"]\n",
    "Swati = train_df[y == \"ssw\"]\n",
    "Tsonga = train_df[y == \"tso\"]\n",
    "Sotho = train_df[y == \"sot\"]\n",
    "Afrikaans = train_df[y == \"afr\"]"
   ]
  },
  {
   "cell_type": "code",
   "execution_count": 20,
   "id": "959bd539",
   "metadata": {},
   "outputs": [
    {
     "data": {
      "image/png": "[encoded data removed]",
      "text/plain": [
       "<Figure size 1300x900 with 1 Axes>"
      ]
     },
     "metadata": {},
     "output_type": "display_data"
    }
   ],
   "source": [
    "plt.figure(figsize=(13,9))\n",
    "labels = y.unique()\n",
    "heights = [len(Xhosa),len(English),len(Nso),len(Venda), len(Tswana), len(Ndebele), len(Zulu), len(Swati), len(Tsonga), len(Sotho), len(Afrikaans)]\n",
    "plt.bar(labels,heights,color= [\"red\", \"blue\", \"orange\", \"green\", \"yellow\", \"black\", \"pink\", \"brown\", \"purple\", \"pink\", \"grey\"])\n",
    "plt.xticks(labels,['Xhosa', 'English', 'Nso', 'Venda', 'Tswana', 'Ndebele', 'Zulu', 'Swati', 'Tsonga', 'Sotho', 'Afrikaans'])\n",
    "plt.ylabel(\"No of Observations\")\n",
    "plt.title(\"The Official Languages Of South Africa\", fontsize = 24)\n",
    "plt.ylabel(\"Number Of Words In Language\", fontsize = 24)\n",
    "plt.xticks(labels,['Xhosa', 'English', 'Nso', 'Venda', 'Tswana', 'Ndebele', 'Zulu', 'Swati', 'Tsonga', 'Sotho', 'Afrikaans'], fontsize = 15)\n",
    "plt.show()"
   ]
  },
  {
   "cell_type": "code",
   "execution_count": 22,
   "id": "20bead7c",
   "metadata": {},
   "outputs": [
    {
     "name": "stdout",
     "output_type": "stream",
     "text": [
      "13.9\n",
      "13.9\n"
     ]
    },
    {
     "data": {
      "text/plain": [
       "<Axes: ylabel='lang_id'>"
      ]
     },
     "execution_count": 22,
     "metadata": {},
     "output_type": "execute_result"
    },
    {
     "data": {
      "image/png": "[encoded data removed]",
      "text/plain": [
       "<Figure size 1390x1390 with 1 Axes>"
      ]
     },
     "metadata": {},
     "output_type": "display_data"
    }
   ],
   "source": [
    "import pandas as pd\n",
    "train_set = pd.read_csv('train_set.csv')\n",
    "\n",
    "\n",
    "\n",
    "plot_size = plt.rcParams[\"figure.figsize\"] \n",
    "print(plot_size[0]) \n",
    "print(plot_size[1])\n",
    "\n",
    "plot_size[0] = 13.9\n",
    "plot_size[1] = 13.9\n",
    "plt.rcParams[\"figure.figsize\"] = plot_size \n",
    "\n",
    "#  distribution of sentenses from the dataset\n",
    "train_set.lang_id.value_counts().plot(kind='pie', autopct='%1.0f%%')"
   ]
  },
  {
   "cell_type": "code",
   "execution_count": 24,
   "id": "962ad68f",
   "metadata": {},
   "outputs": [
    {
     "data": {
      "image/png": "[encoded data removed]",
      "text/plain": [
       "<Figure size 1390x1390 with 2 Axes>"
      ]
     },
     "metadata": {},
     "output_type": "display_data"
    }
   ],
   "source": [
    "#Heatmap\n",
    "\n",
    "heatmap = sns.heatmap(train_set.corr(), vmin=-1, vmax=1, annot=True)\n",
    "heatmap.set_title('Correlation Heatmap', fontdict={'fontsize':13.9}, pad=12);"
   ]
  },
  {
   "cell_type": "code",
   "execution_count": 25,
   "id": "e264e265",
   "metadata": {},
   "outputs": [
    {
     "data": {
      "text/html": [
       "<style type=\"text/css\">\n",
       "#T_77734_row0_col1, #T_77734_row0_col2, #T_77734_row1_col1, #T_77734_row1_col2, #T_77734_row2_col1, #T_77734_row2_col2, #T_77734_row3_col1, #T_77734_row3_col2, #T_77734_row4_col1, #T_77734_row4_col2, #T_77734_row5_col1, #T_77734_row5_col2, #T_77734_row6_col1, #T_77734_row6_col2, #T_77734_row7_col1, #T_77734_row7_col2, #T_77734_row8_col1, #T_77734_row8_col2, #T_77734_row9_col1, #T_77734_row9_col2, #T_77734_row10_col1, #T_77734_row10_col2 {\n",
       "  background-color: #bde7db;\n",
       "  color: #000000;\n",
       "}\n",
       "</style>\n",
       "<table id=\"T_77734\">\n",
       "  <thead>\n",
       "    <tr>\n",
       "      <th class=\"blank level0\" >&nbsp;</th>\n",
       "      <th id=\"T_77734_level0_col0\" class=\"col_heading level0 col0\" >lang_id</th>\n",
       "      <th id=\"T_77734_level0_col1\" class=\"col_heading level0 col1\" >text</th>\n",
       "      <th id=\"T_77734_level0_col2\" class=\"col_heading level0 col2\" >percentage</th>\n",
       "    </tr>\n",
       "  </thead>\n",
       "  <tbody>\n",
       "    <tr>\n",
       "      <th id=\"T_77734_level0_row0\" class=\"row_heading level0 row0\" >0</th>\n",
       "      <td id=\"T_77734_row0_col0\" class=\"data row0 col0\" >afr</td>\n",
       "      <td id=\"T_77734_row0_col1\" class=\"data row0 col1\" >3000</td>\n",
       "      <td id=\"T_77734_row0_col2\" class=\"data row0 col2\" >9.090000</td>\n",
       "    </tr>\n",
       "    <tr>\n",
       "      <th id=\"T_77734_level0_row1\" class=\"row_heading level0 row1\" >1</th>\n",
       "      <td id=\"T_77734_row1_col0\" class=\"data row1 col0\" >eng</td>\n",
       "      <td id=\"T_77734_row1_col1\" class=\"data row1 col1\" >3000</td>\n",
       "      <td id=\"T_77734_row1_col2\" class=\"data row1 col2\" >9.090000</td>\n",
       "    </tr>\n",
       "    <tr>\n",
       "      <th id=\"T_77734_level0_row2\" class=\"row_heading level0 row2\" >2</th>\n",
       "      <td id=\"T_77734_row2_col0\" class=\"data row2 col0\" >nbl</td>\n",
       "      <td id=\"T_77734_row2_col1\" class=\"data row2 col1\" >3000</td>\n",
       "      <td id=\"T_77734_row2_col2\" class=\"data row2 col2\" >9.090000</td>\n",
       "    </tr>\n",
       "    <tr>\n",
       "      <th id=\"T_77734_level0_row3\" class=\"row_heading level0 row3\" >3</th>\n",
       "      <td id=\"T_77734_row3_col0\" class=\"data row3 col0\" >nso</td>\n",
       "      <td id=\"T_77734_row3_col1\" class=\"data row3 col1\" >3000</td>\n",
       "      <td id=\"T_77734_row3_col2\" class=\"data row3 col2\" >9.090000</td>\n",
       "    </tr>\n",
       "    <tr>\n",
       "      <th id=\"T_77734_level0_row4\" class=\"row_heading level0 row4\" >4</th>\n",
       "      <td id=\"T_77734_row4_col0\" class=\"data row4 col0\" >sot</td>\n",
       "      <td id=\"T_77734_row4_col1\" class=\"data row4 col1\" >3000</td>\n",
       "      <td id=\"T_77734_row4_col2\" class=\"data row4 col2\" >9.090000</td>\n",
       "    </tr>\n",
       "    <tr>\n",
       "      <th id=\"T_77734_level0_row5\" class=\"row_heading level0 row5\" >5</th>\n",
       "      <td id=\"T_77734_row5_col0\" class=\"data row5 col0\" >ssw</td>\n",
       "      <td id=\"T_77734_row5_col1\" class=\"data row5 col1\" >3000</td>\n",
       "      <td id=\"T_77734_row5_col2\" class=\"data row5 col2\" >9.090000</td>\n",
       "    </tr>\n",
       "    <tr>\n",
       "      <th id=\"T_77734_level0_row6\" class=\"row_heading level0 row6\" >6</th>\n",
       "      <td id=\"T_77734_row6_col0\" class=\"data row6 col0\" >tsn</td>\n",
       "      <td id=\"T_77734_row6_col1\" class=\"data row6 col1\" >3000</td>\n",
       "      <td id=\"T_77734_row6_col2\" class=\"data row6 col2\" >9.090000</td>\n",
       "    </tr>\n",
       "    <tr>\n",
       "      <th id=\"T_77734_level0_row7\" class=\"row_heading level0 row7\" >7</th>\n",
       "      <td id=\"T_77734_row7_col0\" class=\"data row7 col0\" >tso</td>\n",
       "      <td id=\"T_77734_row7_col1\" class=\"data row7 col1\" >3000</td>\n",
       "      <td id=\"T_77734_row7_col2\" class=\"data row7 col2\" >9.090000</td>\n",
       "    </tr>\n",
       "    <tr>\n",
       "      <th id=\"T_77734_level0_row8\" class=\"row_heading level0 row8\" >8</th>\n",
       "      <td id=\"T_77734_row8_col0\" class=\"data row8 col0\" >ven</td>\n",
       "      <td id=\"T_77734_row8_col1\" class=\"data row8 col1\" >3000</td>\n",
       "      <td id=\"T_77734_row8_col2\" class=\"data row8 col2\" >9.090000</td>\n",
       "    </tr>\n",
       "    <tr>\n",
       "      <th id=\"T_77734_level0_row9\" class=\"row_heading level0 row9\" >9</th>\n",
       "      <td id=\"T_77734_row9_col0\" class=\"data row9 col0\" >xho</td>\n",
       "      <td id=\"T_77734_row9_col1\" class=\"data row9 col1\" >3000</td>\n",
       "      <td id=\"T_77734_row9_col2\" class=\"data row9 col2\" >9.090000</td>\n",
       "    </tr>\n",
       "    <tr>\n",
       "      <th id=\"T_77734_level0_row10\" class=\"row_heading level0 row10\" >10</th>\n",
       "      <td id=\"T_77734_row10_col0\" class=\"data row10 col0\" >zul</td>\n",
       "      <td id=\"T_77734_row10_col1\" class=\"data row10 col1\" >3000</td>\n",
       "      <td id=\"T_77734_row10_col2\" class=\"data row10 col2\" >9.090000</td>\n",
       "    </tr>\n",
       "  </tbody>\n",
       "</table>\n"
      ],
      "text/plain": [
       "<pandas.io.formats.style.Styler at 0x1905b294b20>"
      ]
     },
     "execution_count": 25,
     "metadata": {},
     "output_type": "execute_result"
    }
   ],
   "source": [
    "temp = train_df.groupby('lang_id').count()['text'].reset_index().sort_values(by='text',ascending=False)\n",
    "temp['percentage'] = round((temp['text']/temp['text'].sum())*100,2) #checking for tweet sentiment percetage\n",
    "temp.style.background_gradient(cmap='icefire')"
   ]
  },
  {
   "cell_type": "code",
   "execution_count": 26,
   "id": "b7316902",
   "metadata": {},
   "outputs": [
    {
     "data": {
      "text/plain": [
       "<Axes: title={'center': 'Density curve'}, xlabel='text', ylabel='Density'>"
      ]
     },
     "execution_count": 26,
     "metadata": {},
     "output_type": "execute_result"
    },
    {
     "data": {
      "image/png": "[encoded data removed]",
      "text/plain": [
       "<Figure size 1100x900 with 1 Axes>"
      ]
     },
     "metadata": {},
     "output_type": "display_data"
    }
   ],
   "source": [
    "plt.figure(figsize=(11,9))\n",
    "length = train_df[\"text\"].str.len()\n",
    "plt.title(\"Density curve\", fontsize = 24)\n",
    "plt.xlabel(\"text\", fontsize = 24)\n",
    "plt.ylabel(\"Density\", fontsize = 24)\n",
    "sns.kdeplot(length)"
   ]
  },
  {
   "cell_type": "code",
   "execution_count": 27,
   "id": "a6d99f61",
   "metadata": {},
   "outputs": [],
   "source": [
    "X = train_df[\"text\"] #text data is the independent variable of the training set\n",
    "y = train_df[\"lang_id\"] #lang_id is the dependent variable of the training set\n",
    "X_t = test_df['text'] #text data is the independent variable of the test set"
   ]
  },
  {
   "cell_type": "code",
   "execution_count": 28,
   "id": "fbb87d4f",
   "metadata": {},
   "outputs": [],
   "source": [
    "#text proprocessing\n",
    "\n",
    "# Make text lowercase        \n",
    "text = str(train_df[\"text\"]).lower()\n",
    "\n",
    "import re\n",
    "import string\n",
    "def cleaning(text):\n",
    "\n",
    "# remove @user, #word and link\n",
    "    text = ' '.join(re.sub(\"(@[A-Za-z0-9]+)|(#[A-Za-z0-9]+)|([^0-9A-Za-z \\t])|(\\w+:\\/\\/\\S+)\",\" \",text).split())\n",
    "# remove punctuation    \n",
    "    text = re.sub('<.*?>+', '', text)\n",
    "    text = re.sub('[%s]' % re.escape(string.punctuation), '', text) \n",
    "    text = re.sub('\\n', '', text)\n",
    "# remove numbers    \n",
    "    text = ''.join([i for i in text[:] if not i.isdigit()])\n",
    "    return text\n",
    "\n",
    "train_df['clean_text']=train_df['text'].apply(lambda x: cleaning(x))\n",
    "test_df['clean_text']=test_df['text'].apply(lambda x: cleaning(x))"
   ]
  },
  {
   "cell_type": "code",
   "execution_count": 29,
   "id": "932bd2ce",
   "metadata": {},
   "outputs": [
    {
     "data": {
      "text/html": [
       "<div>\n",
       "<style scoped>\n",
       "    .dataframe tbody tr th:only-of-type {\n",
       "        vertical-align: middle;\n",
       "    }\n",
       "\n",
       "    .dataframe tbody tr th {\n",
       "        vertical-align: top;\n",
       "    }\n",
       "\n",
       "    .dataframe thead th {\n",
       "        text-align: right;\n",
       "    }\n",
       "</style>\n",
       "<table border=\"1\" class=\"dataframe\">\n",
       "  <thead>\n",
       "    <tr style=\"text-align: right;\">\n",
       "      <th></th>\n",
       "      <th>lang_id</th>\n",
       "      <th>text</th>\n",
       "      <th>clean_text</th>\n",
       "    </tr>\n",
       "  </thead>\n",
       "  <tbody>\n",
       "    <tr>\n",
       "      <th>0</th>\n",
       "      <td>xho</td>\n",
       "      <td>umgaqo-siseko wenza amalungiselelo kumaziko ax...</td>\n",
       "      <td>umgaqo siseko wenza amalungiselelo kumaziko ax...</td>\n",
       "    </tr>\n",
       "    <tr>\n",
       "      <th>1</th>\n",
       "      <td>xho</td>\n",
       "      <td>i-dha iya kuba nobulumko bokubeka umsebenzi na...</td>\n",
       "      <td>i dha iya kuba nobulumko bokubeka umsebenzi na...</td>\n",
       "    </tr>\n",
       "    <tr>\n",
       "      <th>2</th>\n",
       "      <td>eng</td>\n",
       "      <td>the province of kwazulu-natal department of tr...</td>\n",
       "      <td>the province of kwazulu natal department of tr...</td>\n",
       "    </tr>\n",
       "    <tr>\n",
       "      <th>3</th>\n",
       "      <td>nso</td>\n",
       "      <td>o netefatša gore o ba file dilo ka moka tše le...</td>\n",
       "      <td>o netefat a gore o ba file dilo ka moka t e le...</td>\n",
       "    </tr>\n",
       "    <tr>\n",
       "      <th>4</th>\n",
       "      <td>ven</td>\n",
       "      <td>khomishini ya ndinganyiso ya mbeu yo ewa maana...</td>\n",
       "      <td>khomishini ya ndinganyiso ya mbeu yo ewa maana...</td>\n",
       "    </tr>\n",
       "  </tbody>\n",
       "</table>\n",
       "</div>"
      ],
      "text/plain": [
       "  lang_id                                               text  \\\n",
       "0     xho  umgaqo-siseko wenza amalungiselelo kumaziko ax...   \n",
       "1     xho  i-dha iya kuba nobulumko bokubeka umsebenzi na...   \n",
       "2     eng  the province of kwazulu-natal department of tr...   \n",
       "3     nso  o netefatša gore o ba file dilo ka moka tše le...   \n",
       "4     ven  khomishini ya ndinganyiso ya mbeu yo ewa maana...   \n",
       "\n",
       "                                          clean_text  \n",
       "0  umgaqo siseko wenza amalungiselelo kumaziko ax...  \n",
       "1  i dha iya kuba nobulumko bokubeka umsebenzi na...  \n",
       "2  the province of kwazulu natal department of tr...  \n",
       "3  o netefat a gore o ba file dilo ka moka t e le...  \n",
       "4  khomishini ya ndinganyiso ya mbeu yo ewa maana...  "
      ]
     },
     "execution_count": 29,
     "metadata": {},
     "output_type": "execute_result"
    }
   ],
   "source": [
    "#Let's observe our progress thus far\n",
    "train_df.head()\n"
   ]
  },
  {
   "cell_type": "code",
   "execution_count": 30,
   "id": "c288521b",
   "metadata": {},
   "outputs": [
    {
     "data": {
      "text/html": [
       "<div>\n",
       "<style scoped>\n",
       "    .dataframe tbody tr th:only-of-type {\n",
       "        vertical-align: middle;\n",
       "    }\n",
       "\n",
       "    .dataframe tbody tr th {\n",
       "        vertical-align: top;\n",
       "    }\n",
       "\n",
       "    .dataframe thead th {\n",
       "        text-align: right;\n",
       "    }\n",
       "</style>\n",
       "<table border=\"1\" class=\"dataframe\">\n",
       "  <thead>\n",
       "    <tr style=\"text-align: right;\">\n",
       "      <th></th>\n",
       "      <th>index</th>\n",
       "      <th>text</th>\n",
       "      <th>clean_text</th>\n",
       "    </tr>\n",
       "  </thead>\n",
       "  <tbody>\n",
       "    <tr>\n",
       "      <th>0</th>\n",
       "      <td>1</td>\n",
       "      <td>Mmasepala, fa maemo a a kgethegileng a letlele...</td>\n",
       "      <td>Mmasepala fa maemo a a kgethegileng a letlelel...</td>\n",
       "    </tr>\n",
       "    <tr>\n",
       "      <th>1</th>\n",
       "      <td>2</td>\n",
       "      <td>Uzakwaziswa ngokufaneleko nakungafuneka eminye...</td>\n",
       "      <td>Uzakwaziswa ngokufaneleko nakungafuneka eminye...</td>\n",
       "    </tr>\n",
       "    <tr>\n",
       "      <th>2</th>\n",
       "      <td>3</td>\n",
       "      <td>Tshivhumbeo tshi fana na ngano dza vhathu.</td>\n",
       "      <td>Tshivhumbeo tshi fana na ngano dza vhathu</td>\n",
       "    </tr>\n",
       "    <tr>\n",
       "      <th>3</th>\n",
       "      <td>4</td>\n",
       "      <td>Kube inja nelikati betingevakala kutsi titsini...</td>\n",
       "      <td>Kube inja nelikati betingevakala kutsi titsini...</td>\n",
       "    </tr>\n",
       "    <tr>\n",
       "      <th>4</th>\n",
       "      <td>5</td>\n",
       "      <td>Winste op buitelandse valuta.</td>\n",
       "      <td>Winste op buitelandse valuta</td>\n",
       "    </tr>\n",
       "  </tbody>\n",
       "</table>\n",
       "</div>"
      ],
      "text/plain": [
       "   index                                               text  \\\n",
       "0      1  Mmasepala, fa maemo a a kgethegileng a letlele...   \n",
       "1      2  Uzakwaziswa ngokufaneleko nakungafuneka eminye...   \n",
       "2      3         Tshivhumbeo tshi fana na ngano dza vhathu.   \n",
       "3      4  Kube inja nelikati betingevakala kutsi titsini...   \n",
       "4      5                      Winste op buitelandse valuta.   \n",
       "\n",
       "                                          clean_text  \n",
       "0  Mmasepala fa maemo a a kgethegileng a letlelel...  \n",
       "1  Uzakwaziswa ngokufaneleko nakungafuneka eminye...  \n",
       "2          Tshivhumbeo tshi fana na ngano dza vhathu  \n",
       "3  Kube inja nelikati betingevakala kutsi titsini...  \n",
       "4                       Winste op buitelandse valuta  "
      ]
     },
     "execution_count": 30,
     "metadata": {},
     "output_type": "execute_result"
    }
   ],
   "source": [
    "test_df.head()"
   ]
  },
  {
   "cell_type": "code",
   "execution_count": 31,
   "id": "2ed3d0d5",
   "metadata": {},
   "outputs": [],
   "source": [
    "from nltk.tokenize import word_tokenize, TreebankWordTokenizer\n",
    "def tokenization(text):\n",
    "    \"\"\"\n",
    "    split the message into token of words\n",
    "    Returns a token of each word contained in the text(tweet)\n",
    "    \"\"\"\n",
    "    text = word_tokenize(text)\n",
    "    return text\n",
    "\n",
    "train_df['tokenized_message'] = train_df['clean_text'].apply(lambda x:\n",
    "                                                              tokenization\n",
    "                                                              (x.lower()))\n",
    "test_df['tokenized_message'] = test_df['clean_text'].apply(lambda x:\n",
    "                                                            tokenization\n",
    "                                                            (x.lower()))"
   ]
  },
  {
   "cell_type": "code",
   "execution_count": 32,
   "id": "87265c9b",
   "metadata": {},
   "outputs": [
    {
     "name": "stderr",
     "output_type": "stream",
     "text": [
      "[nltk_data] Downloading package wordnet to\n",
      "[nltk_data]     C:\\Users\\Moses.IST\\AppData\\Roaming\\nltk_data...\n",
      "[nltk_data]   Package wordnet is already up-to-date!\n"
     ]
    },
    {
     "name": "stdout",
     "output_type": "stream",
     "text": [
      "dinyaki              --> dinyaki   \n",
      "i                    --> i         \n",
      "o                    --> o         \n",
      "t                    --> t         \n",
      "e                    --> e         \n",
      "t                    --> t         \n",
      "a                    --> a         \n",
      "go                   --> go        \n",
      "dirwa                --> dirwa     \n",
      "gabedi               --> gabedi    \n",
      "ka                   --> ka        \n",
      "ngwaga               --> ngwaga    \n",
      "di                   --> di        \n",
      "tla                  --> tla       \n",
      "lebelela             --> lebelela  \n",
      "diphetogo            --> diphetogo \n",
      "t                    --> t         \n",
      "a                    --> a         \n",
      "mebaraka             --> mebaraka  \n",
      "ya                   --> ya        \n",
      "me                   --> me        \n",
      "omo                  --> omo       \n",
      "le                   --> le        \n",
      "mekgwa               --> mekgwa    \n",
      "ga                   --> ga        \n",
      "mmogo                --> mmogo     \n",
      "le                   --> le        \n",
      "go                   --> go        \n",
      "thapiwa              --> thapiwa   \n",
      "me                   --> me        \n",
      "omong                --> omong     \n",
      "ka                   --> ka        \n",
      "makaleng             --> makaleng  \n",
      "ao                   --> ao        \n",
      "me                   --> me        \n",
      "omo                  --> omo       \n",
      "ao                   --> ao        \n",
      "lego                 --> lego      \n",
      "molaong              --> molaong   \n",
      "le                   --> le        \n",
      "ao                   --> ao        \n",
      "a                    --> a         \n",
      "sego                 --> sego      \n",
      "molaong              --> molaong   \n",
      "le                   --> le        \n",
      "go                   --> go        \n",
      "hloka                --> hloka     \n",
      "me                   --> me        \n",
      "omo                  --> omo       \n"
     ]
    }
   ],
   "source": [
    "import nltk\n",
    "from nltk.stem import WordNetLemmatizer\n",
    "nltk.download('wordnet')\n",
    "\n",
    "lemmatizer = WordNetLemmatizer()\n",
    "def lemma_df(text, lemmatizer):\n",
    "    return [lemmatizer.lemmatize(word) for word in text]\n",
    "train_df['lemma'] = train_df['tokenized_message'].apply(lemma_df, args=(lemmatizer, ))\n",
    "for i, t in enumerate(train_df.iloc[5]['tokenized_message']):\n",
    "    print ('{:20s} --> {:10s}'.format(t, train_df.iloc[5]['lemma'][i]))"
   ]
  },
  {
   "cell_type": "code",
   "execution_count": 33,
   "id": "ff5929ae",
   "metadata": {},
   "outputs": [
    {
     "data": {
      "text/html": [
       "<div>\n",
       "<style scoped>\n",
       "    .dataframe tbody tr th:only-of-type {\n",
       "        vertical-align: middle;\n",
       "    }\n",
       "\n",
       "    .dataframe tbody tr th {\n",
       "        vertical-align: top;\n",
       "    }\n",
       "\n",
       "    .dataframe thead th {\n",
       "        text-align: right;\n",
       "    }\n",
       "</style>\n",
       "<table border=\"1\" class=\"dataframe\">\n",
       "  <thead>\n",
       "    <tr style=\"text-align: right;\">\n",
       "      <th></th>\n",
       "      <th>lang_id</th>\n",
       "      <th>text</th>\n",
       "      <th>clean_text</th>\n",
       "      <th>tokenized_message</th>\n",
       "      <th>lemma</th>\n",
       "    </tr>\n",
       "  </thead>\n",
       "  <tbody>\n",
       "    <tr>\n",
       "      <th>0</th>\n",
       "      <td>xho</td>\n",
       "      <td>umgaqo-siseko wenza amalungiselelo kumaziko ax...</td>\n",
       "      <td>umgaqo siseko wenza amalungiselelo kumaziko ax...</td>\n",
       "      <td>[umgaqo, siseko, wenza, amalungiselelo, kumazi...</td>\n",
       "      <td>[umgaqo, siseko, wenza, amalungiselelo, kumazi...</td>\n",
       "    </tr>\n",
       "    <tr>\n",
       "      <th>1</th>\n",
       "      <td>xho</td>\n",
       "      <td>i-dha iya kuba nobulumko bokubeka umsebenzi na...</td>\n",
       "      <td>i dha iya kuba nobulumko bokubeka umsebenzi na...</td>\n",
       "      <td>[i, dha, iya, kuba, nobulumko, bokubeka, umseb...</td>\n",
       "      <td>[i, dha, iya, kuba, nobulumko, bokubeka, umseb...</td>\n",
       "    </tr>\n",
       "    <tr>\n",
       "      <th>2</th>\n",
       "      <td>eng</td>\n",
       "      <td>the province of kwazulu-natal department of tr...</td>\n",
       "      <td>the province of kwazulu natal department of tr...</td>\n",
       "      <td>[the, province, of, kwazulu, natal, department...</td>\n",
       "      <td>[the, province, of, kwazulu, natal, department...</td>\n",
       "    </tr>\n",
       "    <tr>\n",
       "      <th>3</th>\n",
       "      <td>nso</td>\n",
       "      <td>o netefatša gore o ba file dilo ka moka tše le...</td>\n",
       "      <td>o netefat a gore o ba file dilo ka moka t e le...</td>\n",
       "      <td>[o, netefat, a, gore, o, ba, file, dilo, ka, m...</td>\n",
       "      <td>[o, netefat, a, gore, o, ba, file, dilo, ka, m...</td>\n",
       "    </tr>\n",
       "    <tr>\n",
       "      <th>4</th>\n",
       "      <td>ven</td>\n",
       "      <td>khomishini ya ndinganyiso ya mbeu yo ewa maana...</td>\n",
       "      <td>khomishini ya ndinganyiso ya mbeu yo ewa maana...</td>\n",
       "      <td>[khomishini, ya, ndinganyiso, ya, mbeu, yo, ew...</td>\n",
       "      <td>[khomishini, ya, ndinganyiso, ya, mbeu, yo, ew...</td>\n",
       "    </tr>\n",
       "  </tbody>\n",
       "</table>\n",
       "</div>"
      ],
      "text/plain": [
       "  lang_id                                               text  \\\n",
       "0     xho  umgaqo-siseko wenza amalungiselelo kumaziko ax...   \n",
       "1     xho  i-dha iya kuba nobulumko bokubeka umsebenzi na...   \n",
       "2     eng  the province of kwazulu-natal department of tr...   \n",
       "3     nso  o netefatša gore o ba file dilo ka moka tše le...   \n",
       "4     ven  khomishini ya ndinganyiso ya mbeu yo ewa maana...   \n",
       "\n",
       "                                          clean_text  \\\n",
       "0  umgaqo siseko wenza amalungiselelo kumaziko ax...   \n",
       "1  i dha iya kuba nobulumko bokubeka umsebenzi na...   \n",
       "2  the province of kwazulu natal department of tr...   \n",
       "3  o netefat a gore o ba file dilo ka moka t e le...   \n",
       "4  khomishini ya ndinganyiso ya mbeu yo ewa maana...   \n",
       "\n",
       "                                   tokenized_message  \\\n",
       "0  [umgaqo, siseko, wenza, amalungiselelo, kumazi...   \n",
       "1  [i, dha, iya, kuba, nobulumko, bokubeka, umseb...   \n",
       "2  [the, province, of, kwazulu, natal, department...   \n",
       "3  [o, netefat, a, gore, o, ba, file, dilo, ka, m...   \n",
       "4  [khomishini, ya, ndinganyiso, ya, mbeu, yo, ew...   \n",
       "\n",
       "                                               lemma  \n",
       "0  [umgaqo, siseko, wenza, amalungiselelo, kumazi...  \n",
       "1  [i, dha, iya, kuba, nobulumko, bokubeka, umseb...  \n",
       "2  [the, province, of, kwazulu, natal, department...  \n",
       "3  [o, netefat, a, gore, o, ba, file, dilo, ka, m...  \n",
       "4  [khomishini, ya, ndinganyiso, ya, mbeu, yo, ew...  "
      ]
     },
     "execution_count": 33,
     "metadata": {},
     "output_type": "execute_result"
    }
   ],
   "source": [
    "#Let's observe our progress thus far\n",
    "train_df.head()"
   ]
  },
  {
   "cell_type": "code",
   "execution_count": 34,
   "id": "c8ba3741",
   "metadata": {},
   "outputs": [],
   "source": [
    "from nltk.tokenize.treebank import TreebankWordDetokenizer as Detok\n",
    "def detokenization(text):\n",
    "    \"\"\"\n",
    "    Takes the tokenized text and removes the tokenization\n",
    "    Returns text that is detokenized\n",
    "    \"\"\"\n",
    "    detokenizer = Detok()\n",
    "    text = detokenizer.detokenize(text)\n",
    "    return text\n",
    "train_df['detokenized_message'] = train_df['tokenized_message'].apply(lambda x:\n",
    "                                                            detokenization(x))\n",
    "\n",
    "test_df['detokenized_message'] = test_df['tokenized_message'].apply(lambda x:\n",
    "                                                          detokenization(x))"
   ]
  },
  {
   "cell_type": "code",
   "execution_count": 35,
   "id": "b8bae04b",
   "metadata": {},
   "outputs": [
    {
     "data": {
      "text/html": [
       "<div>\n",
       "<style scoped>\n",
       "    .dataframe tbody tr th:only-of-type {\n",
       "        vertical-align: middle;\n",
       "    }\n",
       "\n",
       "    .dataframe tbody tr th {\n",
       "        vertical-align: top;\n",
       "    }\n",
       "\n",
       "    .dataframe thead th {\n",
       "        text-align: right;\n",
       "    }\n",
       "</style>\n",
       "<table border=\"1\" class=\"dataframe\">\n",
       "  <thead>\n",
       "    <tr style=\"text-align: right;\">\n",
       "      <th></th>\n",
       "      <th>lang_id</th>\n",
       "      <th>text</th>\n",
       "      <th>clean_text</th>\n",
       "      <th>tokenized_message</th>\n",
       "      <th>lemma</th>\n",
       "      <th>detokenized_message</th>\n",
       "    </tr>\n",
       "  </thead>\n",
       "  <tbody>\n",
       "    <tr>\n",
       "      <th>0</th>\n",
       "      <td>xho</td>\n",
       "      <td>umgaqo-siseko wenza amalungiselelo kumaziko ax...</td>\n",
       "      <td>umgaqo siseko wenza amalungiselelo kumaziko ax...</td>\n",
       "      <td>[umgaqo, siseko, wenza, amalungiselelo, kumazi...</td>\n",
       "      <td>[umgaqo, siseko, wenza, amalungiselelo, kumazi...</td>\n",
       "      <td>umgaqo siseko wenza amalungiselelo kumaziko ax...</td>\n",
       "    </tr>\n",
       "    <tr>\n",
       "      <th>1</th>\n",
       "      <td>xho</td>\n",
       "      <td>i-dha iya kuba nobulumko bokubeka umsebenzi na...</td>\n",
       "      <td>i dha iya kuba nobulumko bokubeka umsebenzi na...</td>\n",
       "      <td>[i, dha, iya, kuba, nobulumko, bokubeka, umseb...</td>\n",
       "      <td>[i, dha, iya, kuba, nobulumko, bokubeka, umseb...</td>\n",
       "      <td>i dha iya kuba nobulumko bokubeka umsebenzi na...</td>\n",
       "    </tr>\n",
       "    <tr>\n",
       "      <th>2</th>\n",
       "      <td>eng</td>\n",
       "      <td>the province of kwazulu-natal department of tr...</td>\n",
       "      <td>the province of kwazulu natal department of tr...</td>\n",
       "      <td>[the, province, of, kwazulu, natal, department...</td>\n",
       "      <td>[the, province, of, kwazulu, natal, department...</td>\n",
       "      <td>the province of kwazulu natal department of tr...</td>\n",
       "    </tr>\n",
       "    <tr>\n",
       "      <th>3</th>\n",
       "      <td>nso</td>\n",
       "      <td>o netefatša gore o ba file dilo ka moka tše le...</td>\n",
       "      <td>o netefat a gore o ba file dilo ka moka t e le...</td>\n",
       "      <td>[o, netefat, a, gore, o, ba, file, dilo, ka, m...</td>\n",
       "      <td>[o, netefat, a, gore, o, ba, file, dilo, ka, m...</td>\n",
       "      <td>o netefat a gore o ba file dilo ka moka t e le...</td>\n",
       "    </tr>\n",
       "    <tr>\n",
       "      <th>4</th>\n",
       "      <td>ven</td>\n",
       "      <td>khomishini ya ndinganyiso ya mbeu yo ewa maana...</td>\n",
       "      <td>khomishini ya ndinganyiso ya mbeu yo ewa maana...</td>\n",
       "      <td>[khomishini, ya, ndinganyiso, ya, mbeu, yo, ew...</td>\n",
       "      <td>[khomishini, ya, ndinganyiso, ya, mbeu, yo, ew...</td>\n",
       "      <td>khomishini ya ndinganyiso ya mbeu yo ewa maana...</td>\n",
       "    </tr>\n",
       "  </tbody>\n",
       "</table>\n",
       "</div>"
      ],
      "text/plain": [
       "  lang_id                                               text  \\\n",
       "0     xho  umgaqo-siseko wenza amalungiselelo kumaziko ax...   \n",
       "1     xho  i-dha iya kuba nobulumko bokubeka umsebenzi na...   \n",
       "2     eng  the province of kwazulu-natal department of tr...   \n",
       "3     nso  o netefatša gore o ba file dilo ka moka tše le...   \n",
       "4     ven  khomishini ya ndinganyiso ya mbeu yo ewa maana...   \n",
       "\n",
       "                                          clean_text  \\\n",
       "0  umgaqo siseko wenza amalungiselelo kumaziko ax...   \n",
       "1  i dha iya kuba nobulumko bokubeka umsebenzi na...   \n",
       "2  the province of kwazulu natal department of tr...   \n",
       "3  o netefat a gore o ba file dilo ka moka t e le...   \n",
       "4  khomishini ya ndinganyiso ya mbeu yo ewa maana...   \n",
       "\n",
       "                                   tokenized_message  \\\n",
       "0  [umgaqo, siseko, wenza, amalungiselelo, kumazi...   \n",
       "1  [i, dha, iya, kuba, nobulumko, bokubeka, umseb...   \n",
       "2  [the, province, of, kwazulu, natal, department...   \n",
       "3  [o, netefat, a, gore, o, ba, file, dilo, ka, m...   \n",
       "4  [khomishini, ya, ndinganyiso, ya, mbeu, yo, ew...   \n",
       "\n",
       "                                               lemma  \\\n",
       "0  [umgaqo, siseko, wenza, amalungiselelo, kumazi...   \n",
       "1  [i, dha, iya, kuba, nobulumko, bokubeka, umseb...   \n",
       "2  [the, province, of, kwazulu, natal, department...   \n",
       "3  [o, netefat, a, gore, o, ba, file, dilo, ka, m...   \n",
       "4  [khomishini, ya, ndinganyiso, ya, mbeu, yo, ew...   \n",
       "\n",
       "                                 detokenized_message  \n",
       "0  umgaqo siseko wenza amalungiselelo kumaziko ax...  \n",
       "1  i dha iya kuba nobulumko bokubeka umsebenzi na...  \n",
       "2  the province of kwazulu natal department of tr...  \n",
       "3  o netefat a gore o ba file dilo ka moka t e le...  \n",
       "4  khomishini ya ndinganyiso ya mbeu yo ewa maana...  "
      ]
     },
     "execution_count": 35,
     "metadata": {},
     "output_type": "execute_result"
    }
   ],
   "source": [
    "#let's see how that looks\n",
    "train_df.head()"
   ]
  },
  {
   "cell_type": "code",
   "execution_count": 36,
   "id": "d8466c0c",
   "metadata": {},
   "outputs": [
    {
     "data": {
      "text/html": [
       "<div>\n",
       "<style scoped>\n",
       "    .dataframe tbody tr th:only-of-type {\n",
       "        vertical-align: middle;\n",
       "    }\n",
       "\n",
       "    .dataframe tbody tr th {\n",
       "        vertical-align: top;\n",
       "    }\n",
       "\n",
       "    .dataframe thead th {\n",
       "        text-align: right;\n",
       "    }\n",
       "</style>\n",
       "<table border=\"1\" class=\"dataframe\">\n",
       "  <thead>\n",
       "    <tr style=\"text-align: right;\">\n",
       "      <th></th>\n",
       "      <th>index</th>\n",
       "      <th>text</th>\n",
       "      <th>clean_text</th>\n",
       "      <th>tokenized_message</th>\n",
       "      <th>detokenized_message</th>\n",
       "    </tr>\n",
       "  </thead>\n",
       "  <tbody>\n",
       "    <tr>\n",
       "      <th>0</th>\n",
       "      <td>1</td>\n",
       "      <td>Mmasepala, fa maemo a a kgethegileng a letlele...</td>\n",
       "      <td>Mmasepala fa maemo a a kgethegileng a letlelel...</td>\n",
       "      <td>[mmasepala, fa, maemo, a, a, kgethegileng, a, ...</td>\n",
       "      <td>mmasepala fa maemo a a kgethegileng a letlelel...</td>\n",
       "    </tr>\n",
       "    <tr>\n",
       "      <th>1</th>\n",
       "      <td>2</td>\n",
       "      <td>Uzakwaziswa ngokufaneleko nakungafuneka eminye...</td>\n",
       "      <td>Uzakwaziswa ngokufaneleko nakungafuneka eminye...</td>\n",
       "      <td>[uzakwaziswa, ngokufaneleko, nakungafuneka, em...</td>\n",
       "      <td>uzakwaziswa ngokufaneleko nakungafuneka eminye...</td>\n",
       "    </tr>\n",
       "    <tr>\n",
       "      <th>2</th>\n",
       "      <td>3</td>\n",
       "      <td>Tshivhumbeo tshi fana na ngano dza vhathu.</td>\n",
       "      <td>Tshivhumbeo tshi fana na ngano dza vhathu</td>\n",
       "      <td>[tshivhumbeo, tshi, fana, na, ngano, dza, vhathu]</td>\n",
       "      <td>tshivhumbeo tshi fana na ngano dza vhathu</td>\n",
       "    </tr>\n",
       "    <tr>\n",
       "      <th>3</th>\n",
       "      <td>4</td>\n",
       "      <td>Kube inja nelikati betingevakala kutsi titsini...</td>\n",
       "      <td>Kube inja nelikati betingevakala kutsi titsini...</td>\n",
       "      <td>[kube, inja, nelikati, betingevakala, kutsi, t...</td>\n",
       "      <td>kube inja nelikati betingevakala kutsi titsini...</td>\n",
       "    </tr>\n",
       "    <tr>\n",
       "      <th>4</th>\n",
       "      <td>5</td>\n",
       "      <td>Winste op buitelandse valuta.</td>\n",
       "      <td>Winste op buitelandse valuta</td>\n",
       "      <td>[winste, op, buitelandse, valuta]</td>\n",
       "      <td>winste op buitelandse valuta</td>\n",
       "    </tr>\n",
       "  </tbody>\n",
       "</table>\n",
       "</div>"
      ],
      "text/plain": [
       "   index                                               text  \\\n",
       "0      1  Mmasepala, fa maemo a a kgethegileng a letlele...   \n",
       "1      2  Uzakwaziswa ngokufaneleko nakungafuneka eminye...   \n",
       "2      3         Tshivhumbeo tshi fana na ngano dza vhathu.   \n",
       "3      4  Kube inja nelikati betingevakala kutsi titsini...   \n",
       "4      5                      Winste op buitelandse valuta.   \n",
       "\n",
       "                                          clean_text  \\\n",
       "0  Mmasepala fa maemo a a kgethegileng a letlelel...   \n",
       "1  Uzakwaziswa ngokufaneleko nakungafuneka eminye...   \n",
       "2          Tshivhumbeo tshi fana na ngano dza vhathu   \n",
       "3  Kube inja nelikati betingevakala kutsi titsini...   \n",
       "4                       Winste op buitelandse valuta   \n",
       "\n",
       "                                   tokenized_message  \\\n",
       "0  [mmasepala, fa, maemo, a, a, kgethegileng, a, ...   \n",
       "1  [uzakwaziswa, ngokufaneleko, nakungafuneka, em...   \n",
       "2  [tshivhumbeo, tshi, fana, na, ngano, dza, vhathu]   \n",
       "3  [kube, inja, nelikati, betingevakala, kutsi, t...   \n",
       "4                  [winste, op, buitelandse, valuta]   \n",
       "\n",
       "                                 detokenized_message  \n",
       "0  mmasepala fa maemo a a kgethegileng a letlelel...  \n",
       "1  uzakwaziswa ngokufaneleko nakungafuneka eminye...  \n",
       "2          tshivhumbeo tshi fana na ngano dza vhathu  \n",
       "3  kube inja nelikati betingevakala kutsi titsini...  \n",
       "4                       winste op buitelandse valuta  "
      ]
     },
     "execution_count": 36,
     "metadata": {},
     "output_type": "execute_result"
    }
   ],
   "source": [
    "test_df.head()"
   ]
  },
  {
   "cell_type": "code",
   "execution_count": 37,
   "id": "a77c07f9",
   "metadata": {},
   "outputs": [],
   "source": [
    "# creating two new columns in train data\n",
    "train_df['Num_words_raw'] = train_df['text'].apply(lambda\n",
    "                                                      x: len(str(x).split()))\n",
    "train_df['Num_words_clean'] = train_df['clean_text'].apply(\n",
    "                                                              lambda x:\n",
    "                                                              len(str(\n",
    "                                                                  x).split()))\n",
    "\n",
    "# Difference in Number of word in raw data and clean\n",
    "train_df['difference_in_wordsNo'] = abs(train_df['Num_words_raw'] -\n",
    "                                        train_df['Num_words_clean'])\n",
    "\n",
    "# test data frame\n",
    "test_df['Num_words_raw'] = test_df['text'].apply(lambda\n",
    "                                                    x: len(str(x).split()))\n",
    "test_df['Num_words_clean'] = test_df['clean_text'].apply(lambda x:\n",
    "                                                            len(str(x).split(\n",
    "                                                            )))\n",
    "\n",
    "\n",
    "# Difference in Number of words text and Selected Text\n",
    "test_df['difference_in_wordsNo'] = abs(test_df['Num_words_raw']\n",
    "                                       - test_df['Num_words_clean'])"
   ]
  },
  {
   "cell_type": "code",
   "execution_count": 38,
   "id": "3546f564",
   "metadata": {},
   "outputs": [
    {
     "data": {
      "text/html": [
       "<div>\n",
       "<style scoped>\n",
       "    .dataframe tbody tr th:only-of-type {\n",
       "        vertical-align: middle;\n",
       "    }\n",
       "\n",
       "    .dataframe tbody tr th {\n",
       "        vertical-align: top;\n",
       "    }\n",
       "\n",
       "    .dataframe thead th {\n",
       "        text-align: right;\n",
       "    }\n",
       "</style>\n",
       "<table border=\"1\" class=\"dataframe\">\n",
       "  <thead>\n",
       "    <tr style=\"text-align: right;\">\n",
       "      <th></th>\n",
       "      <th>lang_id</th>\n",
       "      <th>text</th>\n",
       "      <th>clean_text</th>\n",
       "      <th>tokenized_message</th>\n",
       "      <th>lemma</th>\n",
       "      <th>detokenized_message</th>\n",
       "      <th>Num_words_raw</th>\n",
       "      <th>Num_words_clean</th>\n",
       "      <th>difference_in_wordsNo</th>\n",
       "    </tr>\n",
       "  </thead>\n",
       "  <tbody>\n",
       "    <tr>\n",
       "      <th>0</th>\n",
       "      <td>xho</td>\n",
       "      <td>umgaqo-siseko wenza amalungiselelo kumaziko ax...</td>\n",
       "      <td>umgaqo siseko wenza amalungiselelo kumaziko ax...</td>\n",
       "      <td>[umgaqo, siseko, wenza, amalungiselelo, kumazi...</td>\n",
       "      <td>[umgaqo, siseko, wenza, amalungiselelo, kumazi...</td>\n",
       "      <td>umgaqo siseko wenza amalungiselelo kumaziko ax...</td>\n",
       "      <td>24</td>\n",
       "      <td>25</td>\n",
       "      <td>1</td>\n",
       "    </tr>\n",
       "    <tr>\n",
       "      <th>1</th>\n",
       "      <td>xho</td>\n",
       "      <td>i-dha iya kuba nobulumko bokubeka umsebenzi na...</td>\n",
       "      <td>i dha iya kuba nobulumko bokubeka umsebenzi na...</td>\n",
       "      <td>[i, dha, iya, kuba, nobulumko, bokubeka, umseb...</td>\n",
       "      <td>[i, dha, iya, kuba, nobulumko, bokubeka, umseb...</td>\n",
       "      <td>i dha iya kuba nobulumko bokubeka umsebenzi na...</td>\n",
       "      <td>31</td>\n",
       "      <td>33</td>\n",
       "      <td>2</td>\n",
       "    </tr>\n",
       "    <tr>\n",
       "      <th>2</th>\n",
       "      <td>eng</td>\n",
       "      <td>the province of kwazulu-natal department of tr...</td>\n",
       "      <td>the province of kwazulu natal department of tr...</td>\n",
       "      <td>[the, province, of, kwazulu, natal, department...</td>\n",
       "      <td>[the, province, of, kwazulu, natal, department...</td>\n",
       "      <td>the province of kwazulu natal department of tr...</td>\n",
       "      <td>37</td>\n",
       "      <td>38</td>\n",
       "      <td>1</td>\n",
       "    </tr>\n",
       "  </tbody>\n",
       "</table>\n",
       "</div>"
      ],
      "text/plain": [
       "  lang_id                                               text  \\\n",
       "0     xho  umgaqo-siseko wenza amalungiselelo kumaziko ax...   \n",
       "1     xho  i-dha iya kuba nobulumko bokubeka umsebenzi na...   \n",
       "2     eng  the province of kwazulu-natal department of tr...   \n",
       "\n",
       "                                          clean_text  \\\n",
       "0  umgaqo siseko wenza amalungiselelo kumaziko ax...   \n",
       "1  i dha iya kuba nobulumko bokubeka umsebenzi na...   \n",
       "2  the province of kwazulu natal department of tr...   \n",
       "\n",
       "                                   tokenized_message  \\\n",
       "0  [umgaqo, siseko, wenza, amalungiselelo, kumazi...   \n",
       "1  [i, dha, iya, kuba, nobulumko, bokubeka, umseb...   \n",
       "2  [the, province, of, kwazulu, natal, department...   \n",
       "\n",
       "                                               lemma  \\\n",
       "0  [umgaqo, siseko, wenza, amalungiselelo, kumazi...   \n",
       "1  [i, dha, iya, kuba, nobulumko, bokubeka, umseb...   \n",
       "2  [the, province, of, kwazulu, natal, department...   \n",
       "\n",
       "                                 detokenized_message  Num_words_raw  \\\n",
       "0  umgaqo siseko wenza amalungiselelo kumaziko ax...             24   \n",
       "1  i dha iya kuba nobulumko bokubeka umsebenzi na...             31   \n",
       "2  the province of kwazulu natal department of tr...             37   \n",
       "\n",
       "   Num_words_clean  difference_in_wordsNo  \n",
       "0               25                      1  \n",
       "1               33                      2  \n",
       "2               38                      1  "
      ]
     },
     "execution_count": 38,
     "metadata": {},
     "output_type": "execute_result"
    }
   ],
   "source": [
    "train_df.head(3)\n"
   ]
  },
  {
   "cell_type": "code",
   "execution_count": 39,
   "id": "ea84469f",
   "metadata": {},
   "outputs": [
    {
     "data": {
      "text/html": [
       "<div>\n",
       "<style scoped>\n",
       "    .dataframe tbody tr th:only-of-type {\n",
       "        vertical-align: middle;\n",
       "    }\n",
       "\n",
       "    .dataframe tbody tr th {\n",
       "        vertical-align: top;\n",
       "    }\n",
       "\n",
       "    .dataframe thead th {\n",
       "        text-align: right;\n",
       "    }\n",
       "</style>\n",
       "<table border=\"1\" class=\"dataframe\">\n",
       "  <thead>\n",
       "    <tr style=\"text-align: right;\">\n",
       "      <th></th>\n",
       "      <th>index</th>\n",
       "      <th>text</th>\n",
       "      <th>clean_text</th>\n",
       "      <th>tokenized_message</th>\n",
       "      <th>detokenized_message</th>\n",
       "      <th>Num_words_raw</th>\n",
       "      <th>Num_words_clean</th>\n",
       "      <th>difference_in_wordsNo</th>\n",
       "    </tr>\n",
       "  </thead>\n",
       "  <tbody>\n",
       "    <tr>\n",
       "      <th>0</th>\n",
       "      <td>1</td>\n",
       "      <td>Mmasepala, fa maemo a a kgethegileng a letlele...</td>\n",
       "      <td>Mmasepala fa maemo a a kgethegileng a letlelel...</td>\n",
       "      <td>[mmasepala, fa, maemo, a, a, kgethegileng, a, ...</td>\n",
       "      <td>mmasepala fa maemo a a kgethegileng a letlelel...</td>\n",
       "      <td>10</td>\n",
       "      <td>10</td>\n",
       "      <td>0</td>\n",
       "    </tr>\n",
       "    <tr>\n",
       "      <th>1</th>\n",
       "      <td>2</td>\n",
       "      <td>Uzakwaziswa ngokufaneleko nakungafuneka eminye...</td>\n",
       "      <td>Uzakwaziswa ngokufaneleko nakungafuneka eminye...</td>\n",
       "      <td>[uzakwaziswa, ngokufaneleko, nakungafuneka, em...</td>\n",
       "      <td>uzakwaziswa ngokufaneleko nakungafuneka eminye...</td>\n",
       "      <td>10</td>\n",
       "      <td>10</td>\n",
       "      <td>0</td>\n",
       "    </tr>\n",
       "    <tr>\n",
       "      <th>2</th>\n",
       "      <td>3</td>\n",
       "      <td>Tshivhumbeo tshi fana na ngano dza vhathu.</td>\n",
       "      <td>Tshivhumbeo tshi fana na ngano dza vhathu</td>\n",
       "      <td>[tshivhumbeo, tshi, fana, na, ngano, dza, vhathu]</td>\n",
       "      <td>tshivhumbeo tshi fana na ngano dza vhathu</td>\n",
       "      <td>7</td>\n",
       "      <td>7</td>\n",
       "      <td>0</td>\n",
       "    </tr>\n",
       "    <tr>\n",
       "      <th>3</th>\n",
       "      <td>4</td>\n",
       "      <td>Kube inja nelikati betingevakala kutsi titsini...</td>\n",
       "      <td>Kube inja nelikati betingevakala kutsi titsini...</td>\n",
       "      <td>[kube, inja, nelikati, betingevakala, kutsi, t...</td>\n",
       "      <td>kube inja nelikati betingevakala kutsi titsini...</td>\n",
       "      <td>7</td>\n",
       "      <td>7</td>\n",
       "      <td>0</td>\n",
       "    </tr>\n",
       "    <tr>\n",
       "      <th>4</th>\n",
       "      <td>5</td>\n",
       "      <td>Winste op buitelandse valuta.</td>\n",
       "      <td>Winste op buitelandse valuta</td>\n",
       "      <td>[winste, op, buitelandse, valuta]</td>\n",
       "      <td>winste op buitelandse valuta</td>\n",
       "      <td>4</td>\n",
       "      <td>4</td>\n",
       "      <td>0</td>\n",
       "    </tr>\n",
       "  </tbody>\n",
       "</table>\n",
       "</div>"
      ],
      "text/plain": [
       "   index                                               text  \\\n",
       "0      1  Mmasepala, fa maemo a a kgethegileng a letlele...   \n",
       "1      2  Uzakwaziswa ngokufaneleko nakungafuneka eminye...   \n",
       "2      3         Tshivhumbeo tshi fana na ngano dza vhathu.   \n",
       "3      4  Kube inja nelikati betingevakala kutsi titsini...   \n",
       "4      5                      Winste op buitelandse valuta.   \n",
       "\n",
       "                                          clean_text  \\\n",
       "0  Mmasepala fa maemo a a kgethegileng a letlelel...   \n",
       "1  Uzakwaziswa ngokufaneleko nakungafuneka eminye...   \n",
       "2          Tshivhumbeo tshi fana na ngano dza vhathu   \n",
       "3  Kube inja nelikati betingevakala kutsi titsini...   \n",
       "4                       Winste op buitelandse valuta   \n",
       "\n",
       "                                   tokenized_message  \\\n",
       "0  [mmasepala, fa, maemo, a, a, kgethegileng, a, ...   \n",
       "1  [uzakwaziswa, ngokufaneleko, nakungafuneka, em...   \n",
       "2  [tshivhumbeo, tshi, fana, na, ngano, dza, vhathu]   \n",
       "3  [kube, inja, nelikati, betingevakala, kutsi, t...   \n",
       "4                  [winste, op, buitelandse, valuta]   \n",
       "\n",
       "                                 detokenized_message  Num_words_raw  \\\n",
       "0  mmasepala fa maemo a a kgethegileng a letlelel...             10   \n",
       "1  uzakwaziswa ngokufaneleko nakungafuneka eminye...             10   \n",
       "2          tshivhumbeo tshi fana na ngano dza vhathu              7   \n",
       "3  kube inja nelikati betingevakala kutsi titsini...              7   \n",
       "4                       winste op buitelandse valuta              4   \n",
       "\n",
       "   Num_words_clean  difference_in_wordsNo  \n",
       "0               10                      0  \n",
       "1               10                      0  \n",
       "2                7                      0  \n",
       "3                7                      0  \n",
       "4                4                      0  "
      ]
     },
     "execution_count": 39,
     "metadata": {},
     "output_type": "execute_result"
    }
   ],
   "source": [
    "test_df.head()"
   ]
  },
  {
   "cell_type": "code",
   "execution_count": 40,
   "id": "9fe69e09",
   "metadata": {},
   "outputs": [
    {
     "data": {
      "text/html": [
       "<style type=\"text/css\">\n",
       "#T_f990b_row0_col1, #T_f990b_row0_col2, #T_f990b_row1_col1, #T_f990b_row1_col2, #T_f990b_row2_col1, #T_f990b_row2_col2, #T_f990b_row3_col1, #T_f990b_row3_col2, #T_f990b_row4_col1, #T_f990b_row4_col2, #T_f990b_row5_col1, #T_f990b_row5_col2, #T_f990b_row6_col1, #T_f990b_row6_col2, #T_f990b_row7_col1, #T_f990b_row7_col2, #T_f990b_row8_col1, #T_f990b_row8_col2, #T_f990b_row9_col1, #T_f990b_row9_col2, #T_f990b_row10_col1, #T_f990b_row10_col2 {\n",
       "  background-color: #bde7db;\n",
       "  color: #000000;\n",
       "}\n",
       "</style>\n",
       "<table id=\"T_f990b\">\n",
       "  <thead>\n",
       "    <tr>\n",
       "      <th class=\"blank level0\" >&nbsp;</th>\n",
       "      <th id=\"T_f990b_level0_col0\" class=\"col_heading level0 col0\" >lang_id</th>\n",
       "      <th id=\"T_f990b_level0_col1\" class=\"col_heading level0 col1\" >detokenized_message</th>\n",
       "      <th id=\"T_f990b_level0_col2\" class=\"col_heading level0 col2\" >percentage</th>\n",
       "    </tr>\n",
       "  </thead>\n",
       "  <tbody>\n",
       "    <tr>\n",
       "      <th id=\"T_f990b_level0_row0\" class=\"row_heading level0 row0\" >0</th>\n",
       "      <td id=\"T_f990b_row0_col0\" class=\"data row0 col0\" >afr</td>\n",
       "      <td id=\"T_f990b_row0_col1\" class=\"data row0 col1\" >3000</td>\n",
       "      <td id=\"T_f990b_row0_col2\" class=\"data row0 col2\" >9.090000</td>\n",
       "    </tr>\n",
       "    <tr>\n",
       "      <th id=\"T_f990b_level0_row1\" class=\"row_heading level0 row1\" >1</th>\n",
       "      <td id=\"T_f990b_row1_col0\" class=\"data row1 col0\" >eng</td>\n",
       "      <td id=\"T_f990b_row1_col1\" class=\"data row1 col1\" >3000</td>\n",
       "      <td id=\"T_f990b_row1_col2\" class=\"data row1 col2\" >9.090000</td>\n",
       "    </tr>\n",
       "    <tr>\n",
       "      <th id=\"T_f990b_level0_row2\" class=\"row_heading level0 row2\" >2</th>\n",
       "      <td id=\"T_f990b_row2_col0\" class=\"data row2 col0\" >nbl</td>\n",
       "      <td id=\"T_f990b_row2_col1\" class=\"data row2 col1\" >3000</td>\n",
       "      <td id=\"T_f990b_row2_col2\" class=\"data row2 col2\" >9.090000</td>\n",
       "    </tr>\n",
       "    <tr>\n",
       "      <th id=\"T_f990b_level0_row3\" class=\"row_heading level0 row3\" >3</th>\n",
       "      <td id=\"T_f990b_row3_col0\" class=\"data row3 col0\" >nso</td>\n",
       "      <td id=\"T_f990b_row3_col1\" class=\"data row3 col1\" >3000</td>\n",
       "      <td id=\"T_f990b_row3_col2\" class=\"data row3 col2\" >9.090000</td>\n",
       "    </tr>\n",
       "    <tr>\n",
       "      <th id=\"T_f990b_level0_row4\" class=\"row_heading level0 row4\" >4</th>\n",
       "      <td id=\"T_f990b_row4_col0\" class=\"data row4 col0\" >sot</td>\n",
       "      <td id=\"T_f990b_row4_col1\" class=\"data row4 col1\" >3000</td>\n",
       "      <td id=\"T_f990b_row4_col2\" class=\"data row4 col2\" >9.090000</td>\n",
       "    </tr>\n",
       "    <tr>\n",
       "      <th id=\"T_f990b_level0_row5\" class=\"row_heading level0 row5\" >5</th>\n",
       "      <td id=\"T_f990b_row5_col0\" class=\"data row5 col0\" >ssw</td>\n",
       "      <td id=\"T_f990b_row5_col1\" class=\"data row5 col1\" >3000</td>\n",
       "      <td id=\"T_f990b_row5_col2\" class=\"data row5 col2\" >9.090000</td>\n",
       "    </tr>\n",
       "    <tr>\n",
       "      <th id=\"T_f990b_level0_row6\" class=\"row_heading level0 row6\" >6</th>\n",
       "      <td id=\"T_f990b_row6_col0\" class=\"data row6 col0\" >tsn</td>\n",
       "      <td id=\"T_f990b_row6_col1\" class=\"data row6 col1\" >3000</td>\n",
       "      <td id=\"T_f990b_row6_col2\" class=\"data row6 col2\" >9.090000</td>\n",
       "    </tr>\n",
       "    <tr>\n",
       "      <th id=\"T_f990b_level0_row7\" class=\"row_heading level0 row7\" >7</th>\n",
       "      <td id=\"T_f990b_row7_col0\" class=\"data row7 col0\" >tso</td>\n",
       "      <td id=\"T_f990b_row7_col1\" class=\"data row7 col1\" >3000</td>\n",
       "      <td id=\"T_f990b_row7_col2\" class=\"data row7 col2\" >9.090000</td>\n",
       "    </tr>\n",
       "    <tr>\n",
       "      <th id=\"T_f990b_level0_row8\" class=\"row_heading level0 row8\" >8</th>\n",
       "      <td id=\"T_f990b_row8_col0\" class=\"data row8 col0\" >ven</td>\n",
       "      <td id=\"T_f990b_row8_col1\" class=\"data row8 col1\" >3000</td>\n",
       "      <td id=\"T_f990b_row8_col2\" class=\"data row8 col2\" >9.090000</td>\n",
       "    </tr>\n",
       "    <tr>\n",
       "      <th id=\"T_f990b_level0_row9\" class=\"row_heading level0 row9\" >9</th>\n",
       "      <td id=\"T_f990b_row9_col0\" class=\"data row9 col0\" >xho</td>\n",
       "      <td id=\"T_f990b_row9_col1\" class=\"data row9 col1\" >3000</td>\n",
       "      <td id=\"T_f990b_row9_col2\" class=\"data row9 col2\" >9.090000</td>\n",
       "    </tr>\n",
       "    <tr>\n",
       "      <th id=\"T_f990b_level0_row10\" class=\"row_heading level0 row10\" >10</th>\n",
       "      <td id=\"T_f990b_row10_col0\" class=\"data row10 col0\" >zul</td>\n",
       "      <td id=\"T_f990b_row10_col1\" class=\"data row10 col1\" >3000</td>\n",
       "      <td id=\"T_f990b_row10_col2\" class=\"data row10 col2\" >9.090000</td>\n",
       "    </tr>\n",
       "  </tbody>\n",
       "</table>\n"
      ],
      "text/plain": [
       "<pandas.io.formats.style.Styler at 0x1905ee16740>"
      ]
     },
     "execution_count": 40,
     "metadata": {},
     "output_type": "execute_result"
    }
   ],
   "source": [
    "temp = train_df.groupby('lang_id').count()['detokenized_message'].reset_index().sort_values(by='detokenized_message',ascending=False)\n",
    "temp['percentage'] = round((temp['detokenized_message']/temp['detokenized_message'].sum())*100,2) #checking for tweet sentiment percetage\n",
    "temp.style.background_gradient(cmap='icefire')"
   ]
  },
  {
   "cell_type": "code",
   "execution_count": 41,
   "id": "04cd9831",
   "metadata": {},
   "outputs": [
    {
     "data": {
      "text/html": [
       "<div>\n",
       "<style scoped>\n",
       "    .dataframe tbody tr th:only-of-type {\n",
       "        vertical-align: middle;\n",
       "    }\n",
       "\n",
       "    .dataframe tbody tr th {\n",
       "        vertical-align: top;\n",
       "    }\n",
       "\n",
       "    .dataframe thead th {\n",
       "        text-align: right;\n",
       "    }\n",
       "</style>\n",
       "<table border=\"1\" class=\"dataframe\">\n",
       "  <thead>\n",
       "    <tr style=\"text-align: right;\">\n",
       "      <th></th>\n",
       "      <th>lang_id</th>\n",
       "      <th>text</th>\n",
       "      <th>clean_text</th>\n",
       "      <th>tokenized_message</th>\n",
       "      <th>lemma</th>\n",
       "      <th>detokenized_message</th>\n",
       "      <th>Num_words_raw</th>\n",
       "      <th>difference_in_wordsNo</th>\n",
       "    </tr>\n",
       "  </thead>\n",
       "  <tbody>\n",
       "    <tr>\n",
       "      <th>0</th>\n",
       "      <td>xho</td>\n",
       "      <td>umgaqo-siseko wenza amalungiselelo kumaziko ax...</td>\n",
       "      <td>umgaqo siseko wenza amalungiselelo kumaziko ax...</td>\n",
       "      <td>[umgaqo, siseko, wenza, amalungiselelo, kumazi...</td>\n",
       "      <td>[umgaqo, siseko, wenza, amalungiselelo, kumazi...</td>\n",
       "      <td>umgaqo siseko wenza amalungiselelo kumaziko ax...</td>\n",
       "      <td>24</td>\n",
       "      <td>1</td>\n",
       "    </tr>\n",
       "    <tr>\n",
       "      <th>1</th>\n",
       "      <td>xho</td>\n",
       "      <td>i-dha iya kuba nobulumko bokubeka umsebenzi na...</td>\n",
       "      <td>i dha iya kuba nobulumko bokubeka umsebenzi na...</td>\n",
       "      <td>[i, dha, iya, kuba, nobulumko, bokubeka, umseb...</td>\n",
       "      <td>[i, dha, iya, kuba, nobulumko, bokubeka, umseb...</td>\n",
       "      <td>i dha iya kuba nobulumko bokubeka umsebenzi na...</td>\n",
       "      <td>31</td>\n",
       "      <td>2</td>\n",
       "    </tr>\n",
       "  </tbody>\n",
       "</table>\n",
       "</div>"
      ],
      "text/plain": [
       "  lang_id                                               text  \\\n",
       "0     xho  umgaqo-siseko wenza amalungiselelo kumaziko ax...   \n",
       "1     xho  i-dha iya kuba nobulumko bokubeka umsebenzi na...   \n",
       "\n",
       "                                          clean_text  \\\n",
       "0  umgaqo siseko wenza amalungiselelo kumaziko ax...   \n",
       "1  i dha iya kuba nobulumko bokubeka umsebenzi na...   \n",
       "\n",
       "                                   tokenized_message  \\\n",
       "0  [umgaqo, siseko, wenza, amalungiselelo, kumazi...   \n",
       "1  [i, dha, iya, kuba, nobulumko, bokubeka, umseb...   \n",
       "\n",
       "                                               lemma  \\\n",
       "0  [umgaqo, siseko, wenza, amalungiselelo, kumazi...   \n",
       "1  [i, dha, iya, kuba, nobulumko, bokubeka, umseb...   \n",
       "\n",
       "                                 detokenized_message  Num_words_raw  \\\n",
       "0  umgaqo siseko wenza amalungiselelo kumaziko ax...             24   \n",
       "1  i dha iya kuba nobulumko bokubeka umsebenzi na...             31   \n",
       "\n",
       "   difference_in_wordsNo  \n",
       "0                      1  \n",
       "1                      2  "
      ]
     },
     "execution_count": 41,
     "metadata": {},
     "output_type": "execute_result"
    }
   ],
   "source": [
    "train_df= train_df.drop('Num_words_clean', axis=1)\n",
    "test_df= test_df.drop('Num_words_clean', axis=1)\n",
    "train_df.head(2)"
   ]
  },
  {
   "cell_type": "code",
   "execution_count": 42,
   "id": "8c993a74",
   "metadata": {},
   "outputs": [
    {
     "data": {
      "text/html": [
       "<div>\n",
       "<style scoped>\n",
       "    .dataframe tbody tr th:only-of-type {\n",
       "        vertical-align: middle;\n",
       "    }\n",
       "\n",
       "    .dataframe tbody tr th {\n",
       "        vertical-align: top;\n",
       "    }\n",
       "\n",
       "    .dataframe thead th {\n",
       "        text-align: right;\n",
       "    }\n",
       "</style>\n",
       "<table border=\"1\" class=\"dataframe\">\n",
       "  <thead>\n",
       "    <tr style=\"text-align: right;\">\n",
       "      <th></th>\n",
       "      <th>lang_id</th>\n",
       "      <th>text</th>\n",
       "      <th>clean_text</th>\n",
       "      <th>tokenized_message</th>\n",
       "      <th>lemma</th>\n",
       "      <th>detokenized_message</th>\n",
       "      <th>Num_words_raw</th>\n",
       "      <th>difference_in_wordsNo</th>\n",
       "    </tr>\n",
       "  </thead>\n",
       "  <tbody>\n",
       "    <tr>\n",
       "      <th>0</th>\n",
       "      <td>xho</td>\n",
       "      <td>umgaqo-siseko wenza amalungiselelo kumaziko ax...</td>\n",
       "      <td>umgaqo siseko wenza amalungiselelo kumaziko ax...</td>\n",
       "      <td>[umgaqo, siseko, wenza, amalungiselelo, kumazi...</td>\n",
       "      <td>[umgaqo, siseko, wenza, amalungiselelo, kumazi...</td>\n",
       "      <td>umgaqo siseko wenza amalungiselelo kumaziko ax...</td>\n",
       "      <td>24</td>\n",
       "      <td>1</td>\n",
       "    </tr>\n",
       "    <tr>\n",
       "      <th>1</th>\n",
       "      <td>xho</td>\n",
       "      <td>i-dha iya kuba nobulumko bokubeka umsebenzi na...</td>\n",
       "      <td>i dha iya kuba nobulumko bokubeka umsebenzi na...</td>\n",
       "      <td>[i, dha, iya, kuba, nobulumko, bokubeka, umseb...</td>\n",
       "      <td>[i, dha, iya, kuba, nobulumko, bokubeka, umseb...</td>\n",
       "      <td>i dha iya kuba nobulumko bokubeka umsebenzi na...</td>\n",
       "      <td>31</td>\n",
       "      <td>2</td>\n",
       "    </tr>\n",
       "    <tr>\n",
       "      <th>2</th>\n",
       "      <td>eng</td>\n",
       "      <td>the province of kwazulu-natal department of tr...</td>\n",
       "      <td>the province of kwazulu natal department of tr...</td>\n",
       "      <td>[the, province, of, kwazulu, natal, department...</td>\n",
       "      <td>[the, province, of, kwazulu, natal, department...</td>\n",
       "      <td>the province of kwazulu natal department of tr...</td>\n",
       "      <td>37</td>\n",
       "      <td>1</td>\n",
       "    </tr>\n",
       "    <tr>\n",
       "      <th>3</th>\n",
       "      <td>nso</td>\n",
       "      <td>o netefatša gore o ba file dilo ka moka tše le...</td>\n",
       "      <td>o netefat a gore o ba file dilo ka moka t e le...</td>\n",
       "      <td>[o, netefat, a, gore, o, ba, file, dilo, ka, m...</td>\n",
       "      <td>[o, netefat, a, gore, o, ba, file, dilo, ka, m...</td>\n",
       "      <td>o netefat a gore o ba file dilo ka moka t e le...</td>\n",
       "      <td>40</td>\n",
       "      <td>4</td>\n",
       "    </tr>\n",
       "    <tr>\n",
       "      <th>4</th>\n",
       "      <td>ven</td>\n",
       "      <td>khomishini ya ndinganyiso ya mbeu yo ewa maana...</td>\n",
       "      <td>khomishini ya ndinganyiso ya mbeu yo ewa maana...</td>\n",
       "      <td>[khomishini, ya, ndinganyiso, ya, mbeu, yo, ew...</td>\n",
       "      <td>[khomishini, ya, ndinganyiso, ya, mbeu, yo, ew...</td>\n",
       "      <td>khomishini ya ndinganyiso ya mbeu yo ewa maana...</td>\n",
       "      <td>43</td>\n",
       "      <td>0</td>\n",
       "    </tr>\n",
       "  </tbody>\n",
       "</table>\n",
       "</div>"
      ],
      "text/plain": [
       "  lang_id                                               text  \\\n",
       "0     xho  umgaqo-siseko wenza amalungiselelo kumaziko ax...   \n",
       "1     xho  i-dha iya kuba nobulumko bokubeka umsebenzi na...   \n",
       "2     eng  the province of kwazulu-natal department of tr...   \n",
       "3     nso  o netefatša gore o ba file dilo ka moka tše le...   \n",
       "4     ven  khomishini ya ndinganyiso ya mbeu yo ewa maana...   \n",
       "\n",
       "                                          clean_text  \\\n",
       "0  umgaqo siseko wenza amalungiselelo kumaziko ax...   \n",
       "1  i dha iya kuba nobulumko bokubeka umsebenzi na...   \n",
       "2  the province of kwazulu natal department of tr...   \n",
       "3  o netefat a gore o ba file dilo ka moka t e le...   \n",
       "4  khomishini ya ndinganyiso ya mbeu yo ewa maana...   \n",
       "\n",
       "                                   tokenized_message  \\\n",
       "0  [umgaqo, siseko, wenza, amalungiselelo, kumazi...   \n",
       "1  [i, dha, iya, kuba, nobulumko, bokubeka, umseb...   \n",
       "2  [the, province, of, kwazulu, natal, department...   \n",
       "3  [o, netefat, a, gore, o, ba, file, dilo, ka, m...   \n",
       "4  [khomishini, ya, ndinganyiso, ya, mbeu, yo, ew...   \n",
       "\n",
       "                                               lemma  \\\n",
       "0  [umgaqo, siseko, wenza, amalungiselelo, kumazi...   \n",
       "1  [i, dha, iya, kuba, nobulumko, bokubeka, umseb...   \n",
       "2  [the, province, of, kwazulu, natal, department...   \n",
       "3  [o, netefat, a, gore, o, ba, file, dilo, ka, m...   \n",
       "4  [khomishini, ya, ndinganyiso, ya, mbeu, yo, ew...   \n",
       "\n",
       "                                 detokenized_message  Num_words_raw  \\\n",
       "0  umgaqo siseko wenza amalungiselelo kumaziko ax...             24   \n",
       "1  i dha iya kuba nobulumko bokubeka umsebenzi na...             31   \n",
       "2  the province of kwazulu natal department of tr...             37   \n",
       "3  o netefat a gore o ba file dilo ka moka t e le...             40   \n",
       "4  khomishini ya ndinganyiso ya mbeu yo ewa maana...             43   \n",
       "\n",
       "   difference_in_wordsNo  \n",
       "0                      1  \n",
       "1                      2  \n",
       "2                      1  \n",
       "3                      4  \n",
       "4                      0  "
      ]
     },
     "execution_count": 42,
     "metadata": {},
     "output_type": "execute_result"
    }
   ],
   "source": [
    "train_df.head()"
   ]
  },
  {
   "cell_type": "code",
   "execution_count": 43,
   "id": "bfea16af",
   "metadata": {},
   "outputs": [],
   "source": [
    "#Assigning variables\n",
    "X_d = train_df['detokenized_message']\n",
    "y = train_df['lang_id']"
   ]
  },
  {
   "cell_type": "code",
   "execution_count": 44,
   "id": "3e1a0d04",
   "metadata": {},
   "outputs": [],
   "source": [
    "from sklearn.feature_extraction.text import CountVectorizer\n",
    "cv = CountVectorizer()\n",
    "X = cv.fit_transform(X)\n",
    "#look at the shape"
   ]
  },
  {
   "cell_type": "code",
   "execution_count": 45,
   "id": "a48b7a5b",
   "metadata": {},
   "outputs": [],
   "source": [
    "from sklearn.feature_extraction.text import CountVectorizer, TfidfVectorizer\n",
    "#vector = TfidfVectorizer(sublinear_tf=True)\n",
    "vector = TfidfVectorizer(ngram_range=(1,2), min_df=2)\n",
    "X =vector.fit_transform(X_d)"
   ]
  },
  {
   "cell_type": "code",
   "execution_count": 46,
   "id": "1bd4de9a",
   "metadata": {},
   "outputs": [
    {
     "data": {
      "text/plain": [
       "(33000, 206310)"
      ]
     },
     "execution_count": 46,
     "metadata": {},
     "output_type": "execute_result"
    }
   ],
   "source": [
    "#look at the shape\n",
    "X.shape "
   ]
  },
  {
   "cell_type": "code",
   "execution_count": 47,
   "id": "ce93bf74",
   "metadata": {},
   "outputs": [
    {
     "data": {
      "text/plain": [
       "(5682, 141958)"
      ]
     },
     "execution_count": 47,
     "metadata": {},
     "output_type": "execute_result"
    }
   ],
   "source": [
    "# The test data is transformed using transform()\n",
    "X_t = cv.transform(X_t)\n",
    "X_t.shape"
   ]
  },
  {
   "cell_type": "code",
   "execution_count": 48,
   "id": "55a37b6b",
   "metadata": {},
   "outputs": [],
   "source": [
    "x_train, x_test, y_train, y_test = train_test_split(X, y, test_size = 0.20, random_state=0)"
   ]
  },
  {
   "cell_type": "code",
   "execution_count": 51,
   "id": "baa7f9b9",
   "metadata": {},
   "outputs": [
    {
     "name": "stdout",
     "output_type": "stream",
     "text": [
      "Accuracy is : 0.9992424242424243\n",
      "Report is :               precision    recall  f1-score   support\n",
      "\n",
      "         afr       1.00      1.00      1.00       587\n",
      "         eng       0.99      1.00      1.00       574\n",
      "         nbl       1.00      1.00      1.00       613\n",
      "         nso       1.00      1.00      1.00       570\n",
      "         sot       1.00      1.00      1.00       600\n",
      "         ssw       1.00      1.00      1.00       624\n",
      "         tsn       1.00      1.00      1.00       581\n",
      "         tso       1.00      1.00      1.00       597\n",
      "         ven       1.00      1.00      1.00       599\n",
      "         xho       1.00      1.00      1.00       621\n",
      "         zul       1.00      1.00      1.00       634\n",
      "\n",
      "    accuracy                           1.00      6600\n",
      "   macro avg       1.00      1.00      1.00      6600\n",
      "weighted avg       1.00      1.00      1.00      6600\n",
      "\n"
     ]
    }
   ],
   "source": [
    "from sklearn.naive_bayes import MultinomialNB\n",
    "model = MultinomialNB()\n",
    "\n",
    "#fitting the Naive_Bayes model\n",
    "model.fit(x_train, y_train)\n",
    "\n",
    "#predicting the y labels\n",
    "y_pred1 = model.predict(x_test)\n",
    "\n",
    "#metrics reporting\n",
    "acc = accuracy_score(y_test, y_pred1)\n",
    "\n",
    "report = classification_report(y_test,y_pred1)\n",
    "\n",
    "print(\"Accuracy is :\",acc)\n",
    "#print(\"Matrix is :\",cm)\n",
    "print(\"Report is :\",report)"
   ]
  },
  {
   "cell_type": "code",
   "execution_count": 52,
   "id": "4e1e4029",
   "metadata": {},
   "outputs": [
    {
     "name": "stdout",
     "output_type": "stream",
     "text": [
      "Accuracy is : 0.9892424242424243\n",
      "Report is :               precision    recall  f1-score   support\n",
      "\n",
      "         afr       1.00      1.00      1.00       587\n",
      "         eng       0.99      1.00      1.00       574\n",
      "         nbl       0.99      0.96      0.97       613\n",
      "         nso       1.00      1.00      1.00       570\n",
      "         sot       1.00      1.00      1.00       600\n",
      "         ssw       0.97      0.99      0.98       624\n",
      "         tsn       1.00      1.00      1.00       581\n",
      "         tso       1.00      1.00      1.00       597\n",
      "         ven       1.00      1.00      1.00       599\n",
      "         xho       0.98      0.98      0.98       621\n",
      "         zul       0.96      0.96      0.96       634\n",
      "\n",
      "    accuracy                           0.99      6600\n",
      "   macro avg       0.99      0.99      0.99      6600\n",
      "weighted avg       0.99      0.99      0.99      6600\n",
      "\n"
     ]
    }
   ],
   "source": [
    "rf_clf = RandomForestClassifier(n_estimators=100) # Create Random Forest classifer object\n",
    "rf_clf.fit(x_train,y_train) # Fit/Train Random Forest Classifer on training set\n",
    "\n",
    "#predict y labels\n",
    "y_pred5 = rf_clf.predict(x_test)\n",
    "\n",
    "#metrics report\n",
    "acc = accuracy_score(y_test, y_pred5)\n",
    "\n",
    "report = classification_report(y_test,y_pred5)\n",
    "\n",
    "print(\"Accuracy is :\",acc)\n",
    "print(\"Report is :\",report)"
   ]
  },
  {
   "cell_type": "code",
   "execution_count": 53,
   "id": "c83fd5f1",
   "metadata": {},
   "outputs": [
    {
     "name": "stdout",
     "output_type": "stream",
     "text": [
      "Accuracy is : 0.9965151515151515\n",
      "Report is :               precision    recall  f1-score   support\n",
      "\n",
      "         afr       1.00      1.00      1.00       587\n",
      "         eng       1.00      1.00      1.00       574\n",
      "         nbl       1.00      0.98      0.99       613\n",
      "         nso       1.00      1.00      1.00       570\n",
      "         sot       1.00      1.00      1.00       600\n",
      "         ssw       1.00      1.00      1.00       624\n",
      "         tsn       1.00      1.00      1.00       581\n",
      "         tso       1.00      1.00      1.00       597\n",
      "         ven       1.00      1.00      1.00       599\n",
      "         xho       1.00      1.00      1.00       621\n",
      "         zul       0.97      1.00      0.98       634\n",
      "\n",
      "    accuracy                           1.00      6600\n",
      "   macro avg       1.00      1.00      1.00      6600\n",
      "weighted avg       1.00      1.00      1.00      6600\n",
      "\n"
     ]
    }
   ],
   "source": [
    "BNBmodel = BernoulliNB()\n",
    "BNBmodel.fit(x_train, y_train)\n",
    "y_pred3 = BNBmodel.predict(x_test)\n",
    "\n",
    "#metrics report\n",
    "acc = accuracy_score(y_test, y_pred3)\n",
    "\n",
    "report = classification_report(y_test,y_pred3)\n",
    "\n",
    "print(\"Accuracy is :\",acc)\n",
    "print(\"Report is :\",report)"
   ]
  },
  {
   "cell_type": "code",
   "execution_count": 54,
   "id": "947df8db",
   "metadata": {},
   "outputs": [
    {
     "name": "stdout",
     "output_type": "stream",
     "text": [
      "Accuracy is : 0.9971212121212121\n",
      "Report is :               precision    recall  f1-score   support\n",
      "\n",
      "         afr       1.00      1.00      1.00       587\n",
      "         eng       1.00      1.00      1.00       574\n",
      "         nbl       0.99      0.99      0.99       613\n",
      "         nso       1.00      1.00      1.00       570\n",
      "         sot       1.00      1.00      1.00       600\n",
      "         ssw       1.00      1.00      1.00       624\n",
      "         tsn       1.00      1.00      1.00       581\n",
      "         tso       1.00      1.00      1.00       597\n",
      "         ven       1.00      1.00      1.00       599\n",
      "         xho       1.00      0.99      1.00       621\n",
      "         zul       0.99      0.99      0.99       634\n",
      "\n",
      "    accuracy                           1.00      6600\n",
      "   macro avg       1.00      1.00      1.00      6600\n",
      "weighted avg       1.00      1.00      1.00      6600\n",
      "\n"
     ]
    }
   ],
   "source": [
    "LRmodel = LogisticRegression(C = 2, max_iter = 1000, n_jobs=-1)# Creating a logistics regression\n",
    "#fit the train data\n",
    "LRmodel.fit(x_train, y_train)\n",
    "#predict y labels\n",
    "y_pred2 = LRmodel.predict(x_test)\n",
    "\n",
    "#metrics report\n",
    "acc = accuracy_score(y_test, y_pred2)\n",
    "\n",
    "report = classification_report(y_test,y_pred2)\n",
    "\n",
    "print(\"Accuracy is :\",acc)\n",
    "print(\"Report is :\",report)"
   ]
  },
  {
   "cell_type": "code",
   "execution_count": 55,
   "id": "bc4e1180",
   "metadata": {},
   "outputs": [
    {
     "name": "stdout",
     "output_type": "stream",
     "text": [
      "Accuracy is : 0.9968181818181818\n",
      "Report is :               precision    recall  f1-score   support\n",
      "\n",
      "         afr       1.00      1.00      1.00       587\n",
      "         eng       1.00      1.00      1.00       574\n",
      "         nbl       0.99      0.99      0.99       613\n",
      "         nso       1.00      1.00      1.00       570\n",
      "         sot       1.00      0.99      1.00       600\n",
      "         ssw       1.00      1.00      1.00       624\n",
      "         tsn       1.00      1.00      1.00       581\n",
      "         tso       1.00      1.00      1.00       597\n",
      "         ven       1.00      1.00      1.00       599\n",
      "         xho       1.00      1.00      1.00       621\n",
      "         zul       0.99      0.99      0.99       634\n",
      "\n",
      "    accuracy                           1.00      6600\n",
      "   macro avg       1.00      1.00      1.00      6600\n",
      "weighted avg       1.00      1.00      1.00      6600\n",
      "\n"
     ]
    }
   ],
   "source": [
    "from sklearn.svm import SVC\n",
    "\n",
    "svc = SVC( kernel='rbf')\n",
    "svc.fit(x_train, y_train)\n",
    "y_pred4 = svc.predict(x_test)\n",
    "\n",
    "#metrics report\n",
    "acc = accuracy_score(y_test, y_pred4)\n",
    "report = classification_report(y_test,y_pred4)\n",
    "\n",
    "print(\"Accuracy is :\",acc)\n",
    "print(\"Report is :\",report)"
   ]
  },
  {
   "cell_type": "code",
   "execution_count": 56,
   "id": "258a3cb5",
   "metadata": {},
   "outputs": [
    {
     "name": "stdout",
     "output_type": "stream",
     "text": [
      "Accuracy is : 0.9981818181818182\n",
      "Report is :               precision    recall  f1-score   support\n",
      "\n",
      "         afr       1.00      1.00      1.00       651\n",
      "         eng       1.00      1.00      1.00       584\n",
      "         nbl       1.00      1.00      1.00       605\n",
      "         nso       1.00      1.00      1.00       606\n",
      "         sot       1.00      1.00      1.00       590\n",
      "         ssw       1.00      1.00      1.00       584\n",
      "         tsn       1.00      1.00      1.00       604\n",
      "         tso       1.00      1.00      1.00       571\n",
      "         ven       1.00      1.00      1.00       593\n",
      "         xho       1.00      0.99      0.99       617\n",
      "         zul       0.99      0.99      0.99       595\n",
      "\n",
      "    accuracy                           1.00      6600\n",
      "   macro avg       1.00      1.00      1.00      6600\n",
      "weighted avg       1.00      1.00      1.00      6600\n",
      "\n"
     ]
    }
   ],
   "source": [
    "from sklearn.linear_model import PassiveAggressiveClassifier,LogisticRegression\n",
    "\n",
    "from sklearn.feature_extraction.text import TfidfVectorizer\n",
    "tfidf_vectorizer = TfidfVectorizer(stop_words='english', max_df=0.8)\n",
    "X = tfidf_vectorizer.fit_transform(train_df['text'])\n",
    "X_t = tfidf_vectorizer.transform(test_df['text'])\n",
    "Y = train_df.lang_id\n",
    "X_train, X_test, Y_train, Y_test = train_test_split(X, Y, test_size = 0.20)\n",
    "\n",
    "pass_tf = PassiveAggressiveClassifier()\n",
    "pass_tf.fit(X_train, Y_train)\n",
    "pred = pass_tf.predict(X_test)\n",
    "\n",
    "\n",
    "acc = accuracy_score(Y_test, pred)#metrics reporting\n",
    "report = classification_report(Y_test,pred)\n",
    "\n",
    "print(\"Accuracy is :\",acc)\n",
    "print(\"Report is :\",report)"
   ]
  },
  {
   "cell_type": "code",
   "execution_count": 57,
   "id": "fbcbdff4",
   "metadata": {},
   "outputs": [],
   "source": [
    "names = ['MultinomialNB', 'Random Forest',\n",
    "         'LogisticRegression', 'BernoulliNB','SVC','PassiveAggressiveClassifier'\n",
    "         ]"
   ]
  },
  {
   "cell_type": "code",
   "execution_count": 58,
   "id": "622a547d",
   "metadata": {},
   "outputs": [],
   "source": [
    "classifiers = [\n",
    "    MultinomialNB(),\n",
    "    RandomForestClassifier(n_estimators=100),\n",
    "    LogisticRegression(C = 2, max_iter = 1000, n_jobs=-1),\n",
    "    BernoulliNB(),\n",
    "    SVC(kernel='rbf'),\n",
    "    PassiveAggressiveClassifier() \n",
    "    ]"
   ]
  },
  {
   "cell_type": "code",
   "execution_count": 59,
   "id": "1a0d6995",
   "metadata": {},
   "outputs": [
    {
     "name": "stdout",
     "output_type": "stream",
     "text": [
      "Fitting MultinomialNB model...\n",
      "... predicting\n",
      "... scoring\n",
      "Fitting Random Forest model...\n",
      "... predicting\n",
      "... scoring\n",
      "Fitting LogisticRegression model...\n",
      "... predicting\n",
      "... scoring\n",
      "Fitting BernoulliNB model...\n",
      "... predicting\n",
      "... scoring\n",
      "Fitting SVC model...\n",
      "... predicting\n",
      "... scoring\n",
      "Fitting PassiveAggressiveClassifier model...\n",
      "... predicting\n",
      "... scoring\n",
      "... All done!\n"
     ]
    }
   ],
   "source": [
    "from sklearn import metrics\n",
    "results = []\n",
    "\n",
    "models = {}\n",
    "confusion = {}\n",
    "class_report = {}\n",
    "\n",
    "\n",
    "for name, clf in zip(names, classifiers):\n",
    "    print ('Fitting {:s} model...'.format(name))\n",
    "    run_time = %timeit -q -o clf.fit(x_train, y_train)\n",
    "\n",
    "    print ('... predicting')\n",
    "    y_pred = clf.predict(x_train)\n",
    "    y_pred_test = clf.predict(x_test)\n",
    "\n",
    "    print ('... scoring')\n",
    "    accuracy  = metrics.accuracy_score(y_train, y_pred)\n",
    "    precision = metrics.precision_score(y_train, y_pred, average='weighted')\n",
    "    recall    = metrics.recall_score(y_train, y_pred, average='weighted')\n",
    "\n",
    "    f1        = metrics.f1_score(y_train, y_pred, average='weighted')\n",
    "    f1_test   = metrics.f1_score(y_test, y_pred_test, average='weighted')\n",
    "\n",
    "    # Save the results to dictionaries\n",
    "    models[name] = clf\n",
    "    confusion[name] = metrics.confusion_matrix(y_train, y_pred)\n",
    "    class_report[name] = metrics.classification_report(y_train, y_pred)\n",
    "\n",
    "    results.append([name, accuracy, precision, recall, f1, f1_test, run_time.best])\n",
    "\n",
    "\n",
    "results = pd.DataFrame(results, columns=['Classifier', 'Accuracy', 'Precision', 'Recall', 'F1 Train', 'F1 Test', 'Train Time'])\n",
    "results.set_index('Classifier', inplace= True)\n",
    "\n",
    "print ('... All done!')"
   ]
  },
  {
   "cell_type": "code",
   "execution_count": 60,
   "id": "6925ff68",
   "metadata": {},
   "outputs": [
    {
     "data": {
      "text/html": [
       "<div>\n",
       "<style scoped>\n",
       "    .dataframe tbody tr th:only-of-type {\n",
       "        vertical-align: middle;\n",
       "    }\n",
       "\n",
       "    .dataframe tbody tr th {\n",
       "        vertical-align: top;\n",
       "    }\n",
       "\n",
       "    .dataframe thead th {\n",
       "        text-align: right;\n",
       "    }\n",
       "</style>\n",
       "<table border=\"1\" class=\"dataframe\">\n",
       "  <thead>\n",
       "    <tr style=\"text-align: right;\">\n",
       "      <th></th>\n",
       "      <th>Accuracy</th>\n",
       "      <th>Precision</th>\n",
       "      <th>Recall</th>\n",
       "      <th>F1 Train</th>\n",
       "      <th>F1 Test</th>\n",
       "      <th>Train Time</th>\n",
       "    </tr>\n",
       "    <tr>\n",
       "      <th>Classifier</th>\n",
       "      <th></th>\n",
       "      <th></th>\n",
       "      <th></th>\n",
       "      <th></th>\n",
       "      <th></th>\n",
       "      <th></th>\n",
       "    </tr>\n",
       "  </thead>\n",
       "  <tbody>\n",
       "    <tr>\n",
       "      <th>Random Forest</th>\n",
       "      <td>1.000000</td>\n",
       "      <td>1.000000</td>\n",
       "      <td>1.000000</td>\n",
       "      <td>1.000000</td>\n",
       "      <td>0.989419</td>\n",
       "      <td>232.791775</td>\n",
       "    </tr>\n",
       "    <tr>\n",
       "      <th>SVC</th>\n",
       "      <td>1.000000</td>\n",
       "      <td>1.000000</td>\n",
       "      <td>1.000000</td>\n",
       "      <td>1.000000</td>\n",
       "      <td>0.996820</td>\n",
       "      <td>196.345060</td>\n",
       "    </tr>\n",
       "    <tr>\n",
       "      <th>PassiveAggressiveClassifier</th>\n",
       "      <td>1.000000</td>\n",
       "      <td>1.000000</td>\n",
       "      <td>1.000000</td>\n",
       "      <td>1.000000</td>\n",
       "      <td>0.998030</td>\n",
       "      <td>0.772832</td>\n",
       "    </tr>\n",
       "    <tr>\n",
       "      <th>LogisticRegression</th>\n",
       "      <td>0.999886</td>\n",
       "      <td>0.999886</td>\n",
       "      <td>0.999886</td>\n",
       "      <td>0.999886</td>\n",
       "      <td>0.997122</td>\n",
       "      <td>54.316403</td>\n",
       "    </tr>\n",
       "    <tr>\n",
       "      <th>MultinomialNB</th>\n",
       "      <td>0.999697</td>\n",
       "      <td>0.999698</td>\n",
       "      <td>0.999697</td>\n",
       "      <td>0.999697</td>\n",
       "      <td>0.999243</td>\n",
       "      <td>0.161251</td>\n",
       "    </tr>\n",
       "    <tr>\n",
       "      <th>BernoulliNB</th>\n",
       "      <td>0.999205</td>\n",
       "      <td>0.999210</td>\n",
       "      <td>0.999205</td>\n",
       "      <td>0.999205</td>\n",
       "      <td>0.996527</td>\n",
       "      <td>0.172936</td>\n",
       "    </tr>\n",
       "  </tbody>\n",
       "</table>\n",
       "</div>"
      ],
      "text/plain": [
       "                             Accuracy  Precision    Recall  F1 Train  \\\n",
       "Classifier                                                             \n",
       "Random Forest                1.000000   1.000000  1.000000  1.000000   \n",
       "SVC                          1.000000   1.000000  1.000000  1.000000   \n",
       "PassiveAggressiveClassifier  1.000000   1.000000  1.000000  1.000000   \n",
       "LogisticRegression           0.999886   0.999886  0.999886  0.999886   \n",
       "MultinomialNB                0.999697   0.999698  0.999697  0.999697   \n",
       "BernoulliNB                  0.999205   0.999210  0.999205  0.999205   \n",
       "\n",
       "                              F1 Test  Train Time  \n",
       "Classifier                                         \n",
       "Random Forest                0.989419  232.791775  \n",
       "SVC                          0.996820  196.345060  \n",
       "PassiveAggressiveClassifier  0.998030    0.772832  \n",
       "LogisticRegression           0.997122   54.316403  \n",
       "MultinomialNB                0.999243    0.161251  \n",
       "BernoulliNB                  0.996527    0.172936  "
      ]
     },
     "execution_count": 60,
     "metadata": {},
     "output_type": "execute_result"
    }
   ],
   "source": [
    "results.sort_values('F1 Train', ascending=False)"
   ]
  },
  {
   "cell_type": "code",
   "execution_count": 61,
   "id": "e9d0670b",
   "metadata": {},
   "outputs": [
    {
     "data": {
      "text/plain": [
       "<Axes: xlabel='Classifier'>"
      ]
     },
     "execution_count": 61,
     "metadata": {},
     "output_type": "execute_result"
    },
    {
     "data": {
      "image/png": "[encoded data removed]",
      "text/plain": [
       "<Figure size 1000x500 with 2 Axes>"
      ]
     },
     "metadata": {},
     "output_type": "display_data"
    }
   ],
   "source": [
    "fig, ax = plt.subplots(1, 2, figsize=(10, 5))\n",
    "results.sort_values('F1 Train', ascending=False, inplace=True)\n",
    "results.plot(y=['F1 Test'], kind='bar', ax=ax[0], xlim=[0,1.1], ylim=[0.70,1.00])\n",
    "results.plot(y='Train Time', kind='bar', ax=ax[1])"
   ]
  },
  {
   "cell_type": "code",
   "execution_count": 62,
   "id": "07f5d71a",
   "metadata": {},
   "outputs": [
    {
     "data": {
      "text/plain": [
       "array([[2412,    0,    0,    0,    0,    0,    0,    0,    0,    0,    1],\n",
       "       [   0, 2426,    0,    0,    0,    0,    0,    0,    0,    0,    0],\n",
       "       [   0,    0, 2375,    0,    0,    0,    0,    0,    0,    0,   12],\n",
       "       [   0,    0,    0, 2430,    0,    0,    0,    0,    0,    0,    0],\n",
       "       [   0,    0,    0,    0, 2400,    0,    0,    0,    0,    0,    0],\n",
       "       [   0,    0,    0,    0,    0, 2371,    0,    0,    0,    0,    5],\n",
       "       [   1,    0,    0,    0,    0,    0, 2418,    0,    0,    0,    0],\n",
       "       [   0,    0,    0,    0,    0,    0,    0, 2403,    0,    0,    0],\n",
       "       [   0,    0,    0,    0,    0,    0,    0,    0, 2401,    0,    0],\n",
       "       [   0,    2,    0,    0,    0,    0,    0,    0,    0, 2377,    0],\n",
       "       [   0,    0,    0,    0,    0,    0,    0,    0,    0,    0, 2366]],\n",
       "      dtype=int64)"
      ]
     },
     "execution_count": 62,
     "metadata": {},
     "output_type": "execute_result"
    }
   ],
   "source": [
    "confusion['BernoulliNB']"
   ]
  },
  {
   "cell_type": "code",
   "execution_count": 63,
   "id": "d8d6b28c",
   "metadata": {},
   "outputs": [
    {
     "data": {
      "image/png": "[encoded data removed]",
      "text/plain": [
       "<Figure size 1500x1000 with 2 Axes>"
      ]
     },
     "metadata": {},
     "output_type": "display_data"
    }
   ],
   "source": [
    "plt.figure(figsize=(15,10))\n",
    "sns.heatmap(confusion['BernoulliNB'], annot = True)\n",
    "plt.show()"
   ]
  },
  {
   "cell_type": "code",
   "execution_count": 64,
   "id": "e605d5f1",
   "metadata": {},
   "outputs": [
    {
     "data": {
      "text/plain": [
       "(5682, 141680)"
      ]
     },
     "execution_count": 64,
     "metadata": {},
     "output_type": "execute_result"
    }
   ],
   "source": [
    "X_t.shape"
   ]
  },
  {
   "cell_type": "code",
   "execution_count": 67,
   "id": "4d1a40ff",
   "metadata": {},
   "outputs": [
    {
     "data": {
      "text/plain": [
       "(5682, 141680)"
      ]
     },
     "execution_count": 67,
     "metadata": {},
     "output_type": "execute_result"
    }
   ],
   "source": [
    "X_t.shape"
   ]
  },
  {
   "cell_type": "code",
   "execution_count": 68,
   "id": "1ea52d54",
   "metadata": {},
   "outputs": [
    {
     "data": {
      "text/plain": [
       "(5682, 141680)"
      ]
     },
     "execution_count": 68,
     "metadata": {},
     "output_type": "execute_result"
    }
   ],
   "source": [
    "X_t.shape"
   ]
  },
  {
   "cell_type": "code",
   "execution_count": null,
   "id": "61b48ab5",
   "metadata": {},
   "outputs": [],
   "source": []
  }
 ],
 "metadata": {
  "kernelspec": {
   "display_name": "Python 3 (ipykernel)",
   "language": "python",
   "name": "python3"
  },
  "language_info": {
   "codemirror_mode": {
    "name": "ipython",
    "version": 3
   },
   "file_extension": ".py",
   "mimetype": "text/x-python",
   "name": "python",
   "nbconvert_exporter": "python",
   "pygments_lexer": "ipython3",
   "version": "3.10.9"
  }
 },
 "nbformat": 4,
 "nbformat_minor": 5
}
